{
 "cells": [
  {
   "cell_type": "markdown",
   "metadata": {},
   "source": [
    "# Data Challenge - Bike Sharing Demand Prediction"
   ]
  },
  {
   "cell_type": "code",
   "execution_count": 145,
   "metadata": {},
   "outputs": [
    {
     "ename": "SyntaxError",
     "evalue": "invalid syntax (<ipython-input-145-bdc724060421>, line 3)",
     "output_type": "error",
     "traceback": [
      "\u001b[1;36m  File \u001b[1;32m\"<ipython-input-145-bdc724060421>\"\u001b[1;36m, line \u001b[1;32m3\u001b[0m\n\u001b[1;33m    GridSearchCV--> avoid overfitting\u001b[0m\n\u001b[1;37m                  ^\u001b[0m\n\u001b[1;31mSyntaxError\u001b[0m\u001b[1;31m:\u001b[0m invalid syntax\n"
     ]
    }
   ],
   "source": [
    "#Paratiriseis gia ergasia\n",
    "\n",
    "GridSearchCV--> avoid overfitting\n",
    "\n",
    "\n"
   ]
  },
  {
   "cell_type": "markdown",
   "metadata": {},
   "source": [
    "As part of the course \"Data science & Web Mining\", you will be working on a regression problem. Specifically, you are given a dataset consisting of a few thousand records containing the hourly count of rental bikes between years 2011 and 2012 in Capital bikeshare system with the corresponding weather and seasonal information.\n",
    "Your goal is to predict how many bikes will be rented each hour of a day, based on data including weather, time, temperature, whether or not its a workday, and much more.\n",
    "The dataset was taken from UCI Machine Learning Repository.\n"
   ]
  },
  {
   "cell_type": "markdown",
   "metadata": {},
   "source": [
    "## Dataset Information"
   ]
  },
  {
   "cell_type": "markdown",
   "metadata": {},
   "source": [
    "Our training dataset contains information from 12,165 hours over 731 days with 14 features (information categories)  and 1 target for each hour.\n",
    "The file named *train.csv* contains the training set of the problem, while the file *test.csv* contains the test set of the problem. Each line of these two files corresponds to a bike sharing record characterized by the following variables:"
   ]
  },
  {
   "cell_type": "markdown",
   "metadata": {},
   "source": [
    "Variable | Description\n",
    "--- | --- | ---\n",
    "season | season (1:winter, 2:spring, 3:summer, 4:fall)\n",
    "yr | year (0: 2011, 1:2012)\n",
    "mnth | month (1 to 12)\n",
    "hr | hour (0 to 23)\n",
    "holiday | weather day is holiday or not\n",
    "weekday|day of the week\n",
    "workingday | if day is neither weekend nor holiday is 1, otherwise is 0.\n",
    "weathersit | 1: Clear, Few clouds, Partly cloudy, Partly cloudy\n",
    "| 2: Mist + Cloudy, Mist + Broken clouds, Mist + Few clouds, Mist\n",
    "| 3: Light Snow, Light Rain + Thunderstorm + Scattered clouds, Light Rain + Scattered clouds\n",
    "| 4: Heavy Rain + Ice Pallets + Thunderstorm + Mist, Snow + Fog\n",
    "temp | Normalized temperature in Celsius. The values are derived via (t-t_min)/(t_max-t_min), t_min=-8, t_max=+39 (only in hourly scale)\n",
    "atemp | Normalized feeling temperature in Celsius. The values are derived via (t-t_min)/(t_max-t_min), t_min=-16, t_max=+50 (only in hourly scale)\n",
    "hum | Normalized humidity. The values are divided to 100 (max)\n",
    "windspeed | Normalized wind speed. The values are divided to 67 (max)\n",
    "casual | count of casual users\n",
    "registered | count of registered users\n",
    "cnt | count of total rental bikes including both casual and registered "
   ]
  },
  {
   "cell_type": "markdown",
   "metadata": {},
   "source": [
    "The training set contains the variable `cnt` which is related to the number of bicycles rented in any given 1 hour time-period. The `cnt` (and also `casual` and `registered` which obviously contain direct information about the bike sharing count) variable is missing from the test set as it is the variable to be predicted."
   ]
  },
  {
   "cell_type": "code",
   "execution_count": 1,
   "metadata": {
    "_cell_guid": "b1076dfc-b9ad-4769-8c92-a6c4dae69d19",
    "_uuid": "8f2839f25d086af736a60e9eeb907d3b93b6e0e5"
   },
   "outputs": [],
   "source": [
    "# Importing the libraries\n",
    "\n",
    "import numpy as np\n",
    "import pandas as pd\n",
    "import matplotlib.pyplot as plt\n",
    "%matplotlib inline\n",
    "import seaborn as sn\n",
    "from scipy import stats\n",
    "from numpy import median\n",
    "from sklearn import metrics\n",
    "from sklearn import model_selection\n",
    "from sklearn.metrics import mean_squared_log_error, r2_score\n",
    "from sklearn.model_selection import GridSearchCV\n",
    "from sklearn.model_selection import train_test_split\n",
    "from sklearn.linear_model import LinearRegression"
   ]
  },
  {
   "cell_type": "markdown",
   "metadata": {},
   "source": [
    "The code that loads the training data from file *train.csv* into a DataFrame of the Pandas library and prints the first 5 lines, is given below. So you can see the 15 variables of the problem."
   ]
  },
  {
   "cell_type": "code",
   "execution_count": 2,
   "metadata": {},
   "outputs": [
    {
     "data": {
      "text/html": [
       "<div>\n",
       "<style scoped>\n",
       "    .dataframe tbody tr th:only-of-type {\n",
       "        vertical-align: middle;\n",
       "    }\n",
       "\n",
       "    .dataframe tbody tr th {\n",
       "        vertical-align: top;\n",
       "    }\n",
       "\n",
       "    .dataframe thead th {\n",
       "        text-align: right;\n",
       "    }\n",
       "</style>\n",
       "<table border=\"1\" class=\"dataframe\">\n",
       "  <thead>\n",
       "    <tr style=\"text-align: right;\">\n",
       "      <th></th>\n",
       "      <th>season</th>\n",
       "      <th>yr</th>\n",
       "      <th>mnth</th>\n",
       "      <th>hr</th>\n",
       "      <th>holiday</th>\n",
       "      <th>weekday</th>\n",
       "      <th>workingday</th>\n",
       "      <th>weathersit</th>\n",
       "      <th>temp</th>\n",
       "      <th>atemp</th>\n",
       "      <th>hum</th>\n",
       "      <th>windspeed</th>\n",
       "      <th>casual</th>\n",
       "      <th>registered</th>\n",
       "      <th>cnt</th>\n",
       "    </tr>\n",
       "  </thead>\n",
       "  <tbody>\n",
       "    <tr>\n",
       "      <th>0</th>\n",
       "      <td>4</td>\n",
       "      <td>0</td>\n",
       "      <td>11</td>\n",
       "      <td>0</td>\n",
       "      <td>0</td>\n",
       "      <td>2</td>\n",
       "      <td>1</td>\n",
       "      <td>1</td>\n",
       "      <td>0.56</td>\n",
       "      <td>0.5303</td>\n",
       "      <td>0.64</td>\n",
       "      <td>0.3582</td>\n",
       "      <td>7</td>\n",
       "      <td>15</td>\n",
       "      <td>22</td>\n",
       "    </tr>\n",
       "    <tr>\n",
       "      <th>1</th>\n",
       "      <td>1</td>\n",
       "      <td>0</td>\n",
       "      <td>2</td>\n",
       "      <td>21</td>\n",
       "      <td>0</td>\n",
       "      <td>6</td>\n",
       "      <td>0</td>\n",
       "      <td>1</td>\n",
       "      <td>0.28</td>\n",
       "      <td>0.2727</td>\n",
       "      <td>0.65</td>\n",
       "      <td>0.2537</td>\n",
       "      <td>9</td>\n",
       "      <td>59</td>\n",
       "      <td>68</td>\n",
       "    </tr>\n",
       "    <tr>\n",
       "      <th>2</th>\n",
       "      <td>4</td>\n",
       "      <td>1</td>\n",
       "      <td>11</td>\n",
       "      <td>12</td>\n",
       "      <td>0</td>\n",
       "      <td>3</td>\n",
       "      <td>1</td>\n",
       "      <td>1</td>\n",
       "      <td>0.44</td>\n",
       "      <td>0.4394</td>\n",
       "      <td>0.41</td>\n",
       "      <td>0.1940</td>\n",
       "      <td>74</td>\n",
       "      <td>270</td>\n",
       "      <td>344</td>\n",
       "    </tr>\n",
       "    <tr>\n",
       "      <th>3</th>\n",
       "      <td>1</td>\n",
       "      <td>1</td>\n",
       "      <td>1</td>\n",
       "      <td>7</td>\n",
       "      <td>0</td>\n",
       "      <td>2</td>\n",
       "      <td>1</td>\n",
       "      <td>2</td>\n",
       "      <td>0.18</td>\n",
       "      <td>0.1970</td>\n",
       "      <td>0.93</td>\n",
       "      <td>0.1642</td>\n",
       "      <td>3</td>\n",
       "      <td>219</td>\n",
       "      <td>222</td>\n",
       "    </tr>\n",
       "    <tr>\n",
       "      <th>4</th>\n",
       "      <td>1</td>\n",
       "      <td>1</td>\n",
       "      <td>3</td>\n",
       "      <td>16</td>\n",
       "      <td>0</td>\n",
       "      <td>1</td>\n",
       "      <td>1</td>\n",
       "      <td>1</td>\n",
       "      <td>0.30</td>\n",
       "      <td>0.2727</td>\n",
       "      <td>0.45</td>\n",
       "      <td>0.2985</td>\n",
       "      <td>30</td>\n",
       "      <td>180</td>\n",
       "      <td>210</td>\n",
       "    </tr>\n",
       "  </tbody>\n",
       "</table>\n",
       "</div>"
      ],
      "text/plain": [
       "   season  yr  mnth  hr  holiday  weekday  workingday  weathersit  temp  \\\n",
       "0       4   0    11   0        0        2           1           1  0.56   \n",
       "1       1   0     2  21        0        6           0           1  0.28   \n",
       "2       4   1    11  12        0        3           1           1  0.44   \n",
       "3       1   1     1   7        0        2           1           2  0.18   \n",
       "4       1   1     3  16        0        1           1           1  0.30   \n",
       "\n",
       "    atemp   hum  windspeed  casual  registered  cnt  \n",
       "0  0.5303  0.64     0.3582       7          15   22  \n",
       "1  0.2727  0.65     0.2537       9          59   68  \n",
       "2  0.4394  0.41     0.1940      74         270  344  \n",
       "3  0.1970  0.93     0.1642       3         219  222  \n",
       "4  0.2727  0.45     0.2985      30         180  210  "
      ]
     },
     "execution_count": 2,
     "metadata": {},
     "output_type": "execute_result"
    }
   ],
   "source": [
    "# Reading training data from the local storage\n",
    "\n",
    "filename = 'train.csv' \n",
    "df_train = pd.read_csv(filename)\n",
    "df_train.head(5)"
   ]
  },
  {
   "cell_type": "markdown",
   "metadata": {},
   "source": [
    "Also, as for the dimensions of the training set, it consists of 12165 lines and 15 columns. That is, you have the data from 12165 bike sharing records for which you know the number of bicycles rented `cnt`\n",
    "."
   ]
  },
  {
   "cell_type": "code",
   "execution_count": 3,
   "metadata": {},
   "outputs": [
    {
     "data": {
      "text/plain": [
       "(12165, 15)"
      ]
     },
     "execution_count": 3,
     "metadata": {},
     "output_type": "execute_result"
    }
   ],
   "source": [
    "df_train.shape"
   ]
  },
  {
   "cell_type": "markdown",
   "metadata": {},
   "source": [
    "Instead, the file named *test.csv* contains the test set of the problem. As with the training set, you are now given code that loads the test set into a DataFrame of the Pandas library and prints its first 5 lines."
   ]
  },
  {
   "cell_type": "code",
   "execution_count": 4,
   "metadata": {},
   "outputs": [
    {
     "data": {
      "text/html": [
       "<div>\n",
       "<style scoped>\n",
       "    .dataframe tbody tr th:only-of-type {\n",
       "        vertical-align: middle;\n",
       "    }\n",
       "\n",
       "    .dataframe tbody tr th {\n",
       "        vertical-align: top;\n",
       "    }\n",
       "\n",
       "    .dataframe thead th {\n",
       "        text-align: right;\n",
       "    }\n",
       "</style>\n",
       "<table border=\"1\" class=\"dataframe\">\n",
       "  <thead>\n",
       "    <tr style=\"text-align: right;\">\n",
       "      <th></th>\n",
       "      <th>season</th>\n",
       "      <th>yr</th>\n",
       "      <th>mnth</th>\n",
       "      <th>hr</th>\n",
       "      <th>holiday</th>\n",
       "      <th>weekday</th>\n",
       "      <th>workingday</th>\n",
       "      <th>weathersit</th>\n",
       "      <th>temp</th>\n",
       "      <th>atemp</th>\n",
       "      <th>hum</th>\n",
       "      <th>windspeed</th>\n",
       "    </tr>\n",
       "  </thead>\n",
       "  <tbody>\n",
       "    <tr>\n",
       "      <th>0</th>\n",
       "      <td>1</td>\n",
       "      <td>1</td>\n",
       "      <td>1</td>\n",
       "      <td>20</td>\n",
       "      <td>0</td>\n",
       "      <td>4</td>\n",
       "      <td>1</td>\n",
       "      <td>1</td>\n",
       "      <td>0.26</td>\n",
       "      <td>0.2121</td>\n",
       "      <td>0.52</td>\n",
       "      <td>0.4478</td>\n",
       "    </tr>\n",
       "    <tr>\n",
       "      <th>1</th>\n",
       "      <td>4</td>\n",
       "      <td>1</td>\n",
       "      <td>10</td>\n",
       "      <td>15</td>\n",
       "      <td>0</td>\n",
       "      <td>5</td>\n",
       "      <td>1</td>\n",
       "      <td>1</td>\n",
       "      <td>0.52</td>\n",
       "      <td>0.5000</td>\n",
       "      <td>0.42</td>\n",
       "      <td>0.4478</td>\n",
       "    </tr>\n",
       "    <tr>\n",
       "      <th>2</th>\n",
       "      <td>1</td>\n",
       "      <td>0</td>\n",
       "      <td>1</td>\n",
       "      <td>10</td>\n",
       "      <td>0</td>\n",
       "      <td>0</td>\n",
       "      <td>0</td>\n",
       "      <td>1</td>\n",
       "      <td>0.22</td>\n",
       "      <td>0.2121</td>\n",
       "      <td>0.51</td>\n",
       "      <td>0.2836</td>\n",
       "    </tr>\n",
       "    <tr>\n",
       "      <th>3</th>\n",
       "      <td>3</td>\n",
       "      <td>1</td>\n",
       "      <td>8</td>\n",
       "      <td>18</td>\n",
       "      <td>0</td>\n",
       "      <td>3</td>\n",
       "      <td>1</td>\n",
       "      <td>1</td>\n",
       "      <td>0.74</td>\n",
       "      <td>0.6667</td>\n",
       "      <td>0.51</td>\n",
       "      <td>0.2239</td>\n",
       "    </tr>\n",
       "    <tr>\n",
       "      <th>4</th>\n",
       "      <td>1</td>\n",
       "      <td>1</td>\n",
       "      <td>2</td>\n",
       "      <td>8</td>\n",
       "      <td>0</td>\n",
       "      <td>1</td>\n",
       "      <td>1</td>\n",
       "      <td>1</td>\n",
       "      <td>0.24</td>\n",
       "      <td>0.2424</td>\n",
       "      <td>0.60</td>\n",
       "      <td>0.0000</td>\n",
       "    </tr>\n",
       "  </tbody>\n",
       "</table>\n",
       "</div>"
      ],
      "text/plain": [
       "   season  yr  mnth  hr  holiday  weekday  workingday  weathersit  temp  \\\n",
       "0       1   1     1  20        0        4           1           1  0.26   \n",
       "1       4   1    10  15        0        5           1           1  0.52   \n",
       "2       1   0     1  10        0        0           0           1  0.22   \n",
       "3       3   1     8  18        0        3           1           1  0.74   \n",
       "4       1   1     2   8        0        1           1           1  0.24   \n",
       "\n",
       "    atemp   hum  windspeed  \n",
       "0  0.2121  0.52     0.4478  \n",
       "1  0.5000  0.42     0.4478  \n",
       "2  0.2121  0.51     0.2836  \n",
       "3  0.6667  0.51     0.2239  \n",
       "4  0.2424  0.60     0.0000  "
      ]
     },
     "execution_count": 4,
     "metadata": {},
     "output_type": "execute_result"
    }
   ],
   "source": [
    "df_test = pd.read_csv('test.csv')\n",
    "df_test.head()"
   ]
  },
  {
   "cell_type": "markdown",
   "metadata": {},
   "source": [
    "As for the dimensions of the test set, as you can see below, it consists of 5214 lines and 12 columns. The missing columns is about the `cnt` variable you are aiming to predict."
   ]
  },
  {
   "cell_type": "code",
   "execution_count": 5,
   "metadata": {},
   "outputs": [
    {
     "data": {
      "text/plain": [
       "(5214, 12)"
      ]
     },
     "execution_count": 5,
     "metadata": {},
     "output_type": "execute_result"
    }
   ],
   "source": [
    "df_test.shape"
   ]
  },
  {
   "cell_type": "markdown",
   "metadata": {},
   "source": [
    "## Goal"
   ]
  },
  {
   "cell_type": "markdown",
   "metadata": {},
   "source": [
    "As mentioned above, your goal is to predict the number of bicycles (variable `cnt`) rented for each 1 hour period-time of the test set. This is a supervised learning problem. You will need to preprocess the training set data, and then use it to train a regressor, which you will use to make predictions for the test set data."
   ]
  },
  {
   "cell_type": "markdown",
   "metadata": {},
   "source": [
    "## Evaluation - RMSLE Score"
   ]
  },
  {
   "cell_type": "markdown",
   "metadata": {},
   "source": [
    "One common way to evaluate a regression model is through calculating Mean Squared Error (MSE) or Root Mean Squared Error (RMSE). \n",
    "\n",
    "$$ RMSE = \\sqrt{\\frac{1}{N} \\sum_{i=1}^N (\\hat{y_i} - y_i)^2} $$\n",
    "\n",
    "In this particular competition, the metric to evaluate your model is **Root Mean Square Logarithmic Error** (RMSLE). It is particularly helpful when we want to penalize an under-predicted estimate greater than an over-predicted estimate. If $\\hat{y_i}$ is the predicted value of the $I$-th sample, and ${y_i}$ is the corresponding true value, then the RMSLE estimated over $N$ samples is defined as:\n",
    "\n",
    "$$ RMSLE = \\sqrt{\\frac{1}{N} \\sum_{i=1}^N (\\log(1+\\hat{y_i}) - \\log(1+y_i))^2 } $$"
   ]
  },
  {
   "cell_type": "markdown",
   "metadata": {},
   "source": [
    "## Initial Python Code"
   ]
  },
  {
   "cell_type": "markdown",
   "metadata": {},
   "source": [
    "Check existence of null values in the dataset:"
   ]
  },
  {
   "cell_type": "code",
   "execution_count": 6,
   "metadata": {},
   "outputs": [
    {
     "data": {
      "text/plain": [
       "season        0\n",
       "yr            0\n",
       "mnth          0\n",
       "hr            0\n",
       "holiday       0\n",
       "weekday       0\n",
       "workingday    0\n",
       "weathersit    0\n",
       "temp          0\n",
       "atemp         0\n",
       "hum           0\n",
       "windspeed     0\n",
       "casual        0\n",
       "registered    0\n",
       "cnt           0\n",
       "dtype: int64"
      ]
     },
     "execution_count": 6,
     "metadata": {},
     "output_type": "execute_result"
    }
   ],
   "source": [
    "df_train.isnull().sum()"
   ]
  },
  {
   "cell_type": "markdown",
   "metadata": {},
   "source": [
    "It seems that no null value is present in the dataset."
   ]
  },
  {
   "cell_type": "markdown",
   "metadata": {},
   "source": [
    "Lets change column names for a nice precise reading:"
   ]
  },
  {
   "cell_type": "code",
   "execution_count": 7,
   "metadata": {},
   "outputs": [],
   "source": [
    "df_train.rename(columns={'weathersit':'weather',\n",
    "                     'mnth':'month',\n",
    "                     'hr':'hour',\n",
    "                     'yr':'year',\n",
    "                     'hum': 'humidity',\n",
    "                     'cnt':'count'},inplace=True)"
   ]
  },
  {
   "cell_type": "code",
   "execution_count": 8,
   "metadata": {},
   "outputs": [
    {
     "data": {
      "text/html": [
       "<div>\n",
       "<style scoped>\n",
       "    .dataframe tbody tr th:only-of-type {\n",
       "        vertical-align: middle;\n",
       "    }\n",
       "\n",
       "    .dataframe tbody tr th {\n",
       "        vertical-align: top;\n",
       "    }\n",
       "\n",
       "    .dataframe thead th {\n",
       "        text-align: right;\n",
       "    }\n",
       "</style>\n",
       "<table border=\"1\" class=\"dataframe\">\n",
       "  <thead>\n",
       "    <tr style=\"text-align: right;\">\n",
       "      <th></th>\n",
       "      <th>season</th>\n",
       "      <th>year</th>\n",
       "      <th>month</th>\n",
       "      <th>hour</th>\n",
       "      <th>holiday</th>\n",
       "      <th>weekday</th>\n",
       "      <th>workingday</th>\n",
       "      <th>weather</th>\n",
       "      <th>temp</th>\n",
       "      <th>atemp</th>\n",
       "      <th>humidity</th>\n",
       "      <th>windspeed</th>\n",
       "      <th>casual</th>\n",
       "      <th>registered</th>\n",
       "      <th>count</th>\n",
       "    </tr>\n",
       "  </thead>\n",
       "  <tbody>\n",
       "    <tr>\n",
       "      <th>0</th>\n",
       "      <td>4</td>\n",
       "      <td>0</td>\n",
       "      <td>11</td>\n",
       "      <td>0</td>\n",
       "      <td>0</td>\n",
       "      <td>2</td>\n",
       "      <td>1</td>\n",
       "      <td>1</td>\n",
       "      <td>0.56</td>\n",
       "      <td>0.5303</td>\n",
       "      <td>0.64</td>\n",
       "      <td>0.3582</td>\n",
       "      <td>7</td>\n",
       "      <td>15</td>\n",
       "      <td>22</td>\n",
       "    </tr>\n",
       "    <tr>\n",
       "      <th>1</th>\n",
       "      <td>1</td>\n",
       "      <td>0</td>\n",
       "      <td>2</td>\n",
       "      <td>21</td>\n",
       "      <td>0</td>\n",
       "      <td>6</td>\n",
       "      <td>0</td>\n",
       "      <td>1</td>\n",
       "      <td>0.28</td>\n",
       "      <td>0.2727</td>\n",
       "      <td>0.65</td>\n",
       "      <td>0.2537</td>\n",
       "      <td>9</td>\n",
       "      <td>59</td>\n",
       "      <td>68</td>\n",
       "    </tr>\n",
       "    <tr>\n",
       "      <th>2</th>\n",
       "      <td>4</td>\n",
       "      <td>1</td>\n",
       "      <td>11</td>\n",
       "      <td>12</td>\n",
       "      <td>0</td>\n",
       "      <td>3</td>\n",
       "      <td>1</td>\n",
       "      <td>1</td>\n",
       "      <td>0.44</td>\n",
       "      <td>0.4394</td>\n",
       "      <td>0.41</td>\n",
       "      <td>0.1940</td>\n",
       "      <td>74</td>\n",
       "      <td>270</td>\n",
       "      <td>344</td>\n",
       "    </tr>\n",
       "    <tr>\n",
       "      <th>3</th>\n",
       "      <td>1</td>\n",
       "      <td>1</td>\n",
       "      <td>1</td>\n",
       "      <td>7</td>\n",
       "      <td>0</td>\n",
       "      <td>2</td>\n",
       "      <td>1</td>\n",
       "      <td>2</td>\n",
       "      <td>0.18</td>\n",
       "      <td>0.1970</td>\n",
       "      <td>0.93</td>\n",
       "      <td>0.1642</td>\n",
       "      <td>3</td>\n",
       "      <td>219</td>\n",
       "      <td>222</td>\n",
       "    </tr>\n",
       "    <tr>\n",
       "      <th>4</th>\n",
       "      <td>1</td>\n",
       "      <td>1</td>\n",
       "      <td>3</td>\n",
       "      <td>16</td>\n",
       "      <td>0</td>\n",
       "      <td>1</td>\n",
       "      <td>1</td>\n",
       "      <td>1</td>\n",
       "      <td>0.30</td>\n",
       "      <td>0.2727</td>\n",
       "      <td>0.45</td>\n",
       "      <td>0.2985</td>\n",
       "      <td>30</td>\n",
       "      <td>180</td>\n",
       "      <td>210</td>\n",
       "    </tr>\n",
       "  </tbody>\n",
       "</table>\n",
       "</div>"
      ],
      "text/plain": [
       "   season  year  month  hour  holiday  weekday  workingday  weather  temp  \\\n",
       "0       4     0     11     0        0        2           1        1  0.56   \n",
       "1       1     0      2    21        0        6           0        1  0.28   \n",
       "2       4     1     11    12        0        3           1        1  0.44   \n",
       "3       1     1      1     7        0        2           1        2  0.18   \n",
       "4       1     1      3    16        0        1           1        1  0.30   \n",
       "\n",
       "    atemp  humidity  windspeed  casual  registered  count  \n",
       "0  0.5303      0.64     0.3582       7          15     22  \n",
       "1  0.2727      0.65     0.2537       9          59     68  \n",
       "2  0.4394      0.41     0.1940      74         270    344  \n",
       "3  0.1970      0.93     0.1642       3         219    222  \n",
       "4  0.2727      0.45     0.2985      30         180    210  "
      ]
     },
     "execution_count": 8,
     "metadata": {},
     "output_type": "execute_result"
    }
   ],
   "source": [
    "df_train.head()"
   ]
  },
  {
   "cell_type": "markdown",
   "metadata": {},
   "source": [
    "Check data type for each column:"
   ]
  },
  {
   "cell_type": "code",
   "execution_count": 9,
   "metadata": {},
   "outputs": [
    {
     "data": {
      "text/plain": [
       "season          int64\n",
       "year            int64\n",
       "month           int64\n",
       "hour            int64\n",
       "holiday         int64\n",
       "weekday         int64\n",
       "workingday      int64\n",
       "weather         int64\n",
       "temp          float64\n",
       "atemp         float64\n",
       "humidity      float64\n",
       "windspeed     float64\n",
       "casual          int64\n",
       "registered      int64\n",
       "count           int64\n",
       "dtype: object"
      ]
     },
     "execution_count": 9,
     "metadata": {},
     "output_type": "execute_result"
    }
   ],
   "source": [
    "df_train.dtypes"
   ]
  },
  {
   "cell_type": "markdown",
   "metadata": {},
   "source": [
    "Some data types need to be changed from numerical to categorical in order for the model to interpret better these variables."
   ]
  },
  {
   "cell_type": "code",
   "execution_count": 10,
   "metadata": {},
   "outputs": [],
   "source": [
    "df_train['season'] = df_train.season.astype('category')\n",
    "df_train['year'] = df_train.year.astype('category')\n",
    "df_train['month'] = df_train.month.astype('category')\n",
    "df_train['hour'] = df_train.hour.astype('category')\n",
    "df_train['holiday'] = df_train.holiday.astype('category')\n",
    "df_train['weekday'] = df_train.weekday.astype('category')\n",
    "df_train['workingday'] = df_train.workingday.astype('category')\n",
    "df_train['weather'] = df_train.weather.astype('category')"
   ]
  },
  {
   "cell_type": "markdown",
   "metadata": {},
   "source": [
    "Lets confirm the converted data types:"
   ]
  },
  {
   "cell_type": "code",
   "execution_count": 11,
   "metadata": {},
   "outputs": [
    {
     "data": {
      "text/plain": [
       "season        category\n",
       "year          category\n",
       "month         category\n",
       "hour          category\n",
       "holiday       category\n",
       "weekday       category\n",
       "workingday    category\n",
       "weather       category\n",
       "temp           float64\n",
       "atemp          float64\n",
       "humidity       float64\n",
       "windspeed      float64\n",
       "casual           int64\n",
       "registered       int64\n",
       "count            int64\n",
       "dtype: object"
      ]
     },
     "execution_count": 11,
     "metadata": {},
     "output_type": "execute_result"
    }
   ],
   "source": [
    "df_train.dtypes"
   ]
  },
  {
   "cell_type": "markdown",
   "metadata": {},
   "source": [
    "###  Exploratory Data Analysis"
   ]
  },
  {
   "cell_type": "markdown",
   "metadata": {},
   "source": [
    "Analyze the change in bike sharing pattern (`count` variable) with categorical variables:"
   ]
  },
  {
   "cell_type": "code",
   "execution_count": 12,
   "metadata": {},
   "outputs": [
    {
     "data": {
      "text/plain": [
       "<matplotlib.axes._subplots.AxesSubplot at 0x1df54d8a048>"
      ]
     },
     "execution_count": 12,
     "metadata": {},
     "output_type": "execute_result"
    },
    {
     "data": {
      "image/png": "[encoded data removed]",
      "text/plain": [
       "<Figure size 1080x1800 with 8 Axes>"
      ]
     },
     "metadata": {
      "needs_background": "light"
     },
     "output_type": "display_data"
    }
   ],
   "source": [
    "fig,[ax1,ax2,ax3,ax4,ax5,ax6,ax7,ax8] = plt.subplots(nrows=8, figsize=(15,25))\n",
    "sn.barplot(x = df_train['season'], y = df_train['count'],ax = ax1)\n",
    "sn.barplot(x = df_train['year'], y = df_train['count'],ax = ax2)\n",
    "sn.barplot(x = df_train['month'], y = df_train['count'],ax = ax3)\n",
    "sn.barplot(x = df_train['hour'], y = df_train['count'],ax = ax4)\n",
    "sn.barplot(x = df_train['holiday'], y = df_train['count'],ax = ax5)\n",
    "sn.barplot(x = df_train['weekday'], y = df_train['count'],ax = ax6)\n",
    "sn.barplot(x = df_train['workingday'], y = df_train['count'],ax = ax7)\n",
    "sn.barplot(x = df_train['weather'], y = df_train['count'],ax = ax8)"
   ]
  },
  {
   "cell_type": "markdown",
   "metadata": {},
   "source": [
    "It is evident that each of the above categorical variables have impact on `count` variable."
   ]
  },
  {
   "cell_type": "markdown",
   "metadata": {},
   "source": [
    "Analyze the change in bike sharing pattern (`count` variable in dataset) with numerical variables:"
   ]
  },
  {
   "cell_type": "code",
   "execution_count": 13,
   "metadata": {},
   "outputs": [
    {
     "data": {
      "text/plain": [
       "[Text(0.5, 1.0, 'Relation between windspeed and count')]"
      ]
     },
     "execution_count": 13,
     "metadata": {},
     "output_type": "execute_result"
    },
    {
     "data": {
      "image/png": "[encoded data removed]",
      "text/plain": [
       "<Figure size 1440x576 with 3 Axes>"
      ]
     },
     "metadata": {
      "needs_background": "light"
     },
     "output_type": "display_data"
    }
   ],
   "source": [
    "# Regression plot is used to verify if a pattern can be observed between `count` and numerical variables\n",
    "\n",
    "fig,[ax1,ax2,ax3] = plt.subplots(ncols = 3, figsize = (20,8))\n",
    "plt.rc('xtick', labelsize=10) \n",
    "plt.rc('ytick', labelsize=10) \n",
    "\n",
    "sn.regplot(x = 'temp', y = 'count',data = df_train, ax = ax1)\n",
    "ax1.set(title=\"Relation between temperature and count\")\n",
    "sn.regplot(x = 'humidity', y = 'count',data = df_train, ax = ax2)\n",
    "ax2.set(title=\"Relation between humidity and count\")\n",
    "sn.regplot(x = 'windspeed', y = 'count',data = df_train, ax = ax3)\n",
    "ax3.set(title=\"Relation between windspeed and count\")"
   ]
  },
  {
   "cell_type": "markdown",
   "metadata": {},
   "source": [
    "### Correlation Analysis"
   ]
  },
  {
   "cell_type": "markdown",
   "metadata": {},
   "source": [
    "To see how numerical variables are connected with each other, data correlation can be checked:"
   ]
  },
  {
   "cell_type": "code",
   "execution_count": 14,
   "metadata": {},
   "outputs": [
    {
     "data": {
      "text/plain": [
       "<matplotlib.axes._subplots.AxesSubplot at 0x1df5554e748>"
      ]
     },
     "execution_count": 14,
     "metadata": {},
     "output_type": "execute_result"
    },
    {
     "data": {
      "image/png": "[encoded data removed]",
      "text/plain": [
       "<Figure size 1080x720 with 2 Axes>"
      ]
     },
     "metadata": {
      "needs_background": "light"
     },
     "output_type": "display_data"
    }
   ],
   "source": [
    "data_corr = df_train[['temp', 'atemp', 'humidity', 'windspeed', 'casual', 'registered', 'count']].corr()\n",
    "mask = np.array(data_corr)\n",
    "mask[np.tril_indices_from(mask)] = False\n",
    "fig = plt.subplots(figsize=(15,10))\n",
    "sn.heatmap(data_corr, mask=mask, vmax=1, square=True, annot=True, cmap=\"YlGnBu\")"
   ]
  },
  {
   "cell_type": "markdown",
   "metadata": {},
   "source": [
    "It can be observed that:\n",
    "- `temp` and `atemp` are strongly correlated. To reduce the dimensionality of the predictive model, the feature `atemp` is dismissed.\n",
    "- `casual` and `registered` contain direct information about the bike sharing `count` which we want to predict (data leakage). Therefore they are not considered in the feature set.\n",
    "- `temp` has positive correlation and `humidity` has negative correlation with `count`.\n",
    "- `windspeed` has little correlation with `count`.\n",
    "- The variables `hour` and `temp` seem to be promising features for the bike sharing count prediction."
   ]
  },
  {
   "cell_type": "code",
   "execution_count": 15,
   "metadata": {},
   "outputs": [],
   "source": [
    "df_train = df_train.drop(['atemp', 'casual', 'registered', 'windspeed'], axis=1)"
   ]
  },
  {
   "cell_type": "code",
   "execution_count": 16,
   "metadata": {},
   "outputs": [
    {
     "data": {
      "text/html": [
       "<div>\n",
       "<style scoped>\n",
       "    .dataframe tbody tr th:only-of-type {\n",
       "        vertical-align: middle;\n",
       "    }\n",
       "\n",
       "    .dataframe tbody tr th {\n",
       "        vertical-align: top;\n",
       "    }\n",
       "\n",
       "    .dataframe thead th {\n",
       "        text-align: right;\n",
       "    }\n",
       "</style>\n",
       "<table border=\"1\" class=\"dataframe\">\n",
       "  <thead>\n",
       "    <tr style=\"text-align: right;\">\n",
       "      <th></th>\n",
       "      <th>season</th>\n",
       "      <th>year</th>\n",
       "      <th>month</th>\n",
       "      <th>hour</th>\n",
       "      <th>holiday</th>\n",
       "      <th>weekday</th>\n",
       "      <th>workingday</th>\n",
       "      <th>weather</th>\n",
       "      <th>temp</th>\n",
       "      <th>humidity</th>\n",
       "      <th>count</th>\n",
       "    </tr>\n",
       "  </thead>\n",
       "  <tbody>\n",
       "    <tr>\n",
       "      <th>0</th>\n",
       "      <td>4</td>\n",
       "      <td>0</td>\n",
       "      <td>11</td>\n",
       "      <td>0</td>\n",
       "      <td>0</td>\n",
       "      <td>2</td>\n",
       "      <td>1</td>\n",
       "      <td>1</td>\n",
       "      <td>0.56</td>\n",
       "      <td>0.64</td>\n",
       "      <td>22</td>\n",
       "    </tr>\n",
       "    <tr>\n",
       "      <th>1</th>\n",
       "      <td>1</td>\n",
       "      <td>0</td>\n",
       "      <td>2</td>\n",
       "      <td>21</td>\n",
       "      <td>0</td>\n",
       "      <td>6</td>\n",
       "      <td>0</td>\n",
       "      <td>1</td>\n",
       "      <td>0.28</td>\n",
       "      <td>0.65</td>\n",
       "      <td>68</td>\n",
       "    </tr>\n",
       "    <tr>\n",
       "      <th>2</th>\n",
       "      <td>4</td>\n",
       "      <td>1</td>\n",
       "      <td>11</td>\n",
       "      <td>12</td>\n",
       "      <td>0</td>\n",
       "      <td>3</td>\n",
       "      <td>1</td>\n",
       "      <td>1</td>\n",
       "      <td>0.44</td>\n",
       "      <td>0.41</td>\n",
       "      <td>344</td>\n",
       "    </tr>\n",
       "    <tr>\n",
       "      <th>3</th>\n",
       "      <td>1</td>\n",
       "      <td>1</td>\n",
       "      <td>1</td>\n",
       "      <td>7</td>\n",
       "      <td>0</td>\n",
       "      <td>2</td>\n",
       "      <td>1</td>\n",
       "      <td>2</td>\n",
       "      <td>0.18</td>\n",
       "      <td>0.93</td>\n",
       "      <td>222</td>\n",
       "    </tr>\n",
       "    <tr>\n",
       "      <th>4</th>\n",
       "      <td>1</td>\n",
       "      <td>1</td>\n",
       "      <td>3</td>\n",
       "      <td>16</td>\n",
       "      <td>0</td>\n",
       "      <td>1</td>\n",
       "      <td>1</td>\n",
       "      <td>1</td>\n",
       "      <td>0.30</td>\n",
       "      <td>0.45</td>\n",
       "      <td>210</td>\n",
       "    </tr>\n",
       "  </tbody>\n",
       "</table>\n",
       "</div>"
      ],
      "text/plain": [
       "  season year month hour holiday weekday workingday weather  temp  humidity  \\\n",
       "0      4    0    11    0       0       2          1       1  0.56      0.64   \n",
       "1      1    0     2   21       0       6          0       1  0.28      0.65   \n",
       "2      4    1    11   12       0       3          1       1  0.44      0.41   \n",
       "3      1    1     1    7       0       2          1       2  0.18      0.93   \n",
       "4      1    1     3   16       0       1          1       1  0.30      0.45   \n",
       "\n",
       "   count  \n",
       "0     22  \n",
       "1     68  \n",
       "2    344  \n",
       "3    222  \n",
       "4    210  "
      ]
     },
     "execution_count": 16,
     "metadata": {},
     "output_type": "execute_result"
    }
   ],
   "source": [
    "df_train.head()"
   ]
  },
  {
   "cell_type": "code",
   "execution_count": 17,
   "metadata": {},
   "outputs": [
    {
     "data": {
      "text/plain": [
       "[Text(0, 0.5, 'Count'),\n",
       " Text(0.5, 0, 'Temperature'),\n",
       " Text(0.5, 1.0, 'Box Plot On Count Across Temperature')]"
      ]
     },
     "execution_count": 17,
     "metadata": {},
     "output_type": "execute_result"
    },
    {
     "data": {
      "image/png": "[encoded data removed]",
      "text/plain": [
       "<Figure size 1080x1080 with 6 Axes>"
      ]
     },
     "metadata": {
      "needs_background": "light"
     },
     "output_type": "display_data"
    }
   ],
   "source": [
    "fig, axes = plt.subplots(nrows=3,ncols=2)\n",
    "fig.set_size_inches(15, 15)\n",
    "sn.boxplot(data=df_train,y=\"count\",orient=\"v\",ax=axes[0][0])\n",
    "sn.boxplot(data=df_train,y=\"count\",x=\"month\",orient=\"v\",ax=axes[0][1])\n",
    "sn.boxplot(data=df_train,y=\"count\",x=\"weather\",orient=\"v\",ax=axes[1][0])\n",
    "sn.boxplot(data=df_train,y=\"count\",x=\"workingday\",orient=\"v\",ax=axes[1][1])\n",
    "sn.boxplot(data=df_train,y=\"count\",x=\"hour\",orient=\"v\",ax=axes[2][0])\n",
    "sn.boxplot(data=df_train,y=\"count\",x=\"temp\",orient=\"v\",ax=axes[2][1])\n",
    "\n",
    "axes[0][1].set(xlabel='Month', ylabel='Count',title=\"Box Plot On Count Across Months\")\n",
    "axes[1][0].set(xlabel='Weather Situation', ylabel='Count',title=\"Box Plot On Count Across Weather Situations\")\n",
    "axes[1][1].set(xlabel='Working Day', ylabel='Count',title=\"Box Plot On Count Across Working Day\")\n",
    "axes[2][0].set(xlabel='Hour Of The Day', ylabel='Count',title=\"Box Plot On Count Across Hour Of The Day\")\n",
    "axes[2][1].set(xlabel='Temperature', ylabel='Count',title=\"Box Plot On Count Across Temperature\")"
   ]
  },
  {
   "cell_type": "code",
   "execution_count": 18,
   "metadata": {},
   "outputs": [],
   "source": [
    "#Time to remove outliers\n"
   ]
  },
  {
   "cell_type": "code",
   "execution_count": 19,
   "metadata": {},
   "outputs": [
    {
     "name": "stdout",
     "output_type": "stream",
     "text": [
      "Samples in train set with outliers: 12165\n",
      "Samples in train set without outliers: 11799\n"
     ]
    }
   ],
   "source": [
    "print(\"Samples in train set with outliers: {}\".format(len(df_train)))\n",
    "q1 = np.quantile(df_train['count'],0.25)\n",
    "q3 = np.quantile(df_train['count'],0.75)\n",
    "iqr = q3 - q1\n",
    "lower_bound = q1 -(1.5 * iqr) \n",
    "upper_bound = q3 +(1.5 * iqr) \n",
    "train_preprocessed = df_train.loc[(df_train['count'] >= lower_bound) & (df_train['count'] <= upper_bound)]\n",
    "print(\"Samples in train set without outliers: {}\".format(len(train_preprocessed)))\n",
    "#sn.distplot(train_preprocessed.count);"
   ]
  },
  {
   "cell_type": "markdown",
   "metadata": {},
   "source": [
    "# Model building"
   ]
  },
  {
   "cell_type": "markdown",
   "metadata": {},
   "source": [
    "Here we use only 3 features `temp`, `humidity`, `workingday` and a simple [`LinearRegression`](https://scikit-learn.org/stable/modules/generated/sklearn.linear_model.LinearRegression.html) model. We also split our data into a training and test set to have a local evaluation:"
   ]
  },
  {
   "cell_type": "code",
   "execution_count": 26,
   "metadata": {},
   "outputs": [],
   "source": [
    "df_train.head()\n",
    "y=df_train['count']\n",
    "X=df_train[['season','year','month','hour','holiday','weekday','workingday','weather','temp','humidity']]"
   ]
  },
  {
   "cell_type": "code",
   "execution_count": 27,
   "metadata": {},
   "outputs": [],
   "source": [
    "X_train, X_test, y_train, y_test = train_test_split(X, y, test_size=0.2, random_state=0)"
   ]
  },
  {
   "cell_type": "code",
   "execution_count": 22,
   "metadata": {},
   "outputs": [],
   "source": [
    "#X_train_ens,X_valid_ens,y_train_ens,y_valid_ens = train_test_split(X_train,y_train,test_size=0.3,random_state=0)\n",
    "X_train_ens,X_valid_ens,y_train_ens,y_valid_ens = train_test_split(X,y,test_size=0.3,random_state=0)"
   ]
  },
  {
   "cell_type": "markdown",
   "metadata": {},
   "source": [
    "Create a regression object and train the model using the training set:"
   ]
  },
  {
   "cell_type": "code",
   "execution_count": 28,
   "metadata": {},
   "outputs": [],
   "source": [
    "def rmsle(y_test,y_pred):\n",
    "    return np.sqrt(mean_squared_log_error(y_test, y_pred))"
   ]
  },
  {
   "cell_type": "code",
   "execution_count": 24,
   "metadata": {},
   "outputs": [],
   "source": [
    "#from sklearn.ensemble import RandomForestRegressor\n",
    "#parameters = {\n",
    " #   \"n_estimators\":[100,200,500,1000],\n",
    "  #  \"max_depth\":[2,4,8,16,32,None],\n",
    "   # \"verbose\":[2],\n",
    "    \n",
    "    \n",
    "#}\n",
    "#reg = RandomForestRegressor()\n",
    "#cv = GridSearchCV(reg,parameters,cv=5)\n",
    "#cv.fit(X_train,y_train)"
   ]
  },
  {
   "cell_type": "code",
   "execution_count": 48,
   "metadata": {},
   "outputs": [
    {
     "data": {
      "text/plain": [
       "RandomForestRegressor(bootstrap=True, criterion='mse', max_depth=32,\n",
       "                      max_features='auto', max_leaf_nodes=None,\n",
       "                      min_impurity_decrease=0.0, min_impurity_split=None,\n",
       "                      min_samples_leaf=1, min_samples_split=2,\n",
       "                      min_weight_fraction_leaf=0.0, n_estimators=500,\n",
       "                      n_jobs=None, oob_score=False, random_state=0, verbose=0,\n",
       "                      warm_start=False)"
      ]
     },
     "execution_count": 48,
     "metadata": {},
     "output_type": "execute_result"
    }
   ],
   "source": [
    "#model1\n",
    "from sklearn.ensemble import RandomForestRegressor\n",
    "\n",
    "model1 = RandomForestRegressor(max_depth=32,n_estimators=500,criterion='mse',random_state=0)\n",
    "model1.fit(X_train,y_train)\n"
   ]
  },
  {
   "cell_type": "code",
   "execution_count": 33,
   "metadata": {},
   "outputs": [],
   "source": [
    "#Neural Net Preprocessing\n",
    "Xnn = pd.DataFrame(pd.get_dummies(data=X_train,columns=['season','month','hour','weekday','weather']))\n"
   ]
  },
  {
   "cell_type": "code",
   "execution_count": 29,
   "metadata": {},
   "outputs": [
    {
     "name": "stderr",
     "output_type": "stream",
     "text": [
      "Using TensorFlow backend.\n"
     ]
    }
   ],
   "source": [
    "#import keras library and packages\n",
    "import keras\n",
    "import tensorflow as tf\n",
    "from keras.models import Sequential\n",
    "from keras.layers import Dense\n",
    "from keras.layers import Dropout\n",
    "from keras import losses\n",
    "from keras import optimizers\n",
    "from keras.optimizers import SGD\n",
    "from keras import backend as K\n",
    "from keras.regularizers import l2\n",
    "from keras.regularizers import l1\n",
    "from keras.wrappers.scikit_learn import KerasRegressor\n",
    "from keras import regularizers\n",
    "from keras import optimizers\n",
    "import numpy as np"
   ]
  },
  {
   "cell_type": "code",
   "execution_count": 43,
   "metadata": {},
   "outputs": [],
   "source": [
    "def create_model1():\n",
    "    mod = Sequential()\n",
    "    mod.add(Dense(60, input_dim=56,activation='relu')) #input\n",
    "    mod.add(Dense(100, input_dim=56,activation='relu'))#hidden\n",
    "    mod.add(Dense(100, input_dim=56,activation='relu')) #hidden\n",
    "    mod.add(Dense(1, activation=\"relu\",input_dim=56)) #output\n",
    "    sgd = SGD(lr=0.1,decay=1e-4,momentum=0.9)\n",
    "    mod.compile(optimizer=sgd,loss=keras.losses.mean_squared_logarithmic_error)\n",
    "    return mod"
   ]
  },
  {
   "cell_type": "code",
   "execution_count": 44,
   "metadata": {},
   "outputs": [
    {
     "name": "stdout",
     "output_type": "stream",
     "text": [
      "Train on 7785 samples, validate on 1947 samples\n",
      "Epoch 1/100\n",
      "7785/7785 [==============================] - 1s 149us/step - loss: 1.7710 - val_loss: 0.3939\n",
      "Epoch 2/100\n",
      "7785/7785 [==============================] - 0s 57us/step - loss: 0.2788 - val_loss: 0.2107\n",
      "Epoch 3/100\n",
      "7785/7785 [==============================] - 0s 55us/step - loss: 0.1722 - val_loss: 0.1557\n",
      "Epoch 4/100\n",
      "7785/7785 [==============================] - 0s 56us/step - loss: 0.1570 - val_loss: 0.1321\n",
      "Epoch 5/100\n",
      "7785/7785 [==============================] - 0s 58us/step - loss: 0.1367 - val_loss: 0.1387\n",
      "Epoch 6/100\n",
      "7785/7785 [==============================] - 0s 58us/step - loss: 0.1344 - val_loss: 0.1293\n",
      "Epoch 7/100\n",
      "7785/7785 [==============================] - 0s 60us/step - loss: 0.1295 - val_loss: 0.1243\n",
      "Epoch 8/100\n",
      "7785/7785 [==============================] - 0s 60us/step - loss: 0.1242 - val_loss: 0.1175\n",
      "Epoch 9/100\n",
      "7785/7785 [==============================] - 0s 57us/step - loss: 0.1241 - val_loss: 0.1117\n",
      "Epoch 10/100\n",
      "7785/7785 [==============================] - 0s 57us/step - loss: 0.1166 - val_loss: 0.1237\n",
      "Epoch 11/100\n",
      "7785/7785 [==============================] - 0s 59us/step - loss: 0.1131 - val_loss: 0.1170\n",
      "Epoch 12/100\n",
      "7785/7785 [==============================] - 0s 56us/step - loss: 0.1104 - val_loss: 0.1096\n",
      "Epoch 13/100\n",
      "7785/7785 [==============================] - 0s 61us/step - loss: 0.1074 - val_loss: 0.1099\n",
      "Epoch 14/100\n",
      "7785/7785 [==============================] - 0s 58us/step - loss: 0.1056 - val_loss: 0.1130\n",
      "Epoch 15/100\n",
      "7785/7785 [==============================] - 0s 62us/step - loss: 0.1051 - val_loss: 0.1085\n",
      "Epoch 16/100\n",
      "7785/7785 [==============================] - 0s 63us/step - loss: 0.1038 - val_loss: 0.1072\n",
      "Epoch 17/100\n",
      "7785/7785 [==============================] - 0s 62us/step - loss: 0.1021 - val_loss: 0.1062\n",
      "Epoch 18/100\n",
      "7785/7785 [==============================] - 1s 69us/step - loss: 0.0993 - val_loss: 0.1093\n",
      "Epoch 19/100\n",
      "7785/7785 [==============================] - 0s 64us/step - loss: 0.0983 - val_loss: 0.1118\n",
      "Epoch 20/100\n",
      "7785/7785 [==============================] - 1s 74us/step - loss: 0.0984 - val_loss: 0.1086\n",
      "Epoch 21/100\n",
      "7785/7785 [==============================] - 1s 67us/step - loss: 0.0983 - val_loss: 0.1062\n",
      "Epoch 22/100\n",
      "7785/7785 [==============================] - 1s 69us/step - loss: 0.0951 - val_loss: 0.1069\n",
      "Epoch 23/100\n",
      "7785/7785 [==============================] - 1s 70us/step - loss: 0.0937 - val_loss: 0.1069\n",
      "Epoch 24/100\n",
      "7785/7785 [==============================] - 0s 63us/step - loss: 0.0938 - val_loss: 0.1054\n",
      "Epoch 25/100\n",
      "7785/7785 [==============================] - 0s 60us/step - loss: 0.0924 - val_loss: 0.1102\n",
      "Epoch 26/100\n",
      "7785/7785 [==============================] - 1s 72us/step - loss: 0.0911 - val_loss: 0.1049\n",
      "Epoch 27/100\n",
      "7785/7785 [==============================] - 1s 77us/step - loss: 0.0894 - val_loss: 0.1077\n",
      "Epoch 28/100\n",
      "7785/7785 [==============================] - 1s 67us/step - loss: 0.0906 - val_loss: 0.1157\n",
      "Epoch 29/100\n",
      "7785/7785 [==============================] - 1s 64us/step - loss: 0.0882 - val_loss: 0.1020\n",
      "Epoch 30/100\n",
      "7785/7785 [==============================] - 0s 59us/step - loss: 0.0874 - val_loss: 0.1068\n",
      "Epoch 31/100\n",
      "7785/7785 [==============================] - 0s 62us/step - loss: 0.0862 - val_loss: 0.1045\n",
      "Epoch 32/100\n",
      "7785/7785 [==============================] - 0s 58us/step - loss: 0.0872 - val_loss: 0.1062\n",
      "Epoch 33/100\n",
      "7785/7785 [==============================] - 0s 58us/step - loss: 0.0845 - val_loss: 0.1060\n",
      "Epoch 34/100\n",
      "7785/7785 [==============================] - 0s 61us/step - loss: 0.0825 - val_loss: 0.1050\n",
      "Epoch 35/100\n",
      "7785/7785 [==============================] - 0s 61us/step - loss: 0.0828 - val_loss: 0.1074\n",
      "Epoch 36/100\n",
      "7785/7785 [==============================] - 0s 58us/step - loss: 0.0838 - val_loss: 0.1075\n",
      "Epoch 37/100\n",
      "7785/7785 [==============================] - 0s 60us/step - loss: 0.0824 - val_loss: 0.1038\n",
      "Epoch 38/100\n",
      "7785/7785 [==============================] - 0s 60us/step - loss: 0.0804 - val_loss: 0.1033\n",
      "Epoch 39/100\n",
      "7785/7785 [==============================] - 0s 61us/step - loss: 0.0830 - val_loss: 0.1154\n",
      "Epoch 40/100\n",
      "7785/7785 [==============================] - 1s 65us/step - loss: 0.0808 - val_loss: 0.1013\n",
      "Epoch 41/100\n",
      "7785/7785 [==============================] - 0s 57us/step - loss: 0.0784 - val_loss: 0.1075\n",
      "Epoch 42/100\n",
      "7785/7785 [==============================] - 1s 65us/step - loss: 0.0791 - val_loss: 0.1111\n",
      "Epoch 43/100\n",
      "7785/7785 [==============================] - 0s 63us/step - loss: 0.0793 - val_loss: 0.1157\n",
      "Epoch 44/100\n",
      "7785/7785 [==============================] - 0s 58us/step - loss: 0.0791 - val_loss: 0.1054\n",
      "Epoch 45/100\n",
      "7785/7785 [==============================] - 0s 57us/step - loss: 0.0763 - val_loss: 0.1067\n",
      "Epoch 46/100\n",
      "7785/7785 [==============================] - 0s 62us/step - loss: 0.0766 - val_loss: 0.1101\n",
      "Epoch 47/100\n",
      "7785/7785 [==============================] - 0s 59us/step - loss: 0.0759 - val_loss: 0.1067\n",
      "Epoch 48/100\n",
      "7785/7785 [==============================] - 0s 59us/step - loss: 0.0770 - val_loss: 0.1044\n",
      "Epoch 49/100\n",
      "7785/7785 [==============================] - 0s 59us/step - loss: 0.0766 - val_loss: 0.1073\n",
      "Epoch 50/100\n",
      "7785/7785 [==============================] - 0s 59us/step - loss: 0.0760 - val_loss: 0.1078\n",
      "Epoch 51/100\n",
      "7785/7785 [==============================] - 0s 62us/step - loss: 0.0741 - val_loss: 0.1072\n",
      "Epoch 52/100\n",
      "7785/7785 [==============================] - 1s 73us/step - loss: 0.0740 - val_loss: 0.1050\n",
      "Epoch 53/100\n",
      "7785/7785 [==============================] - 0s 64us/step - loss: 0.0734 - val_loss: 0.1077\n",
      "Epoch 54/100\n",
      "7785/7785 [==============================] - 0s 55us/step - loss: 0.0742 - val_loss: 0.1045\n",
      "Epoch 55/100\n",
      "7785/7785 [==============================] - 0s 59us/step - loss: 0.0727 - val_loss: 0.1046\n",
      "Epoch 56/100\n",
      "7785/7785 [==============================] - 0s 64us/step - loss: 0.0738 - val_loss: 0.1060\n",
      "Epoch 57/100\n",
      "7785/7785 [==============================] - 0s 58us/step - loss: 0.0722 - val_loss: 0.1077\n",
      "Epoch 58/100\n",
      "7785/7785 [==============================] - 1s 64us/step - loss: 0.0714 - val_loss: 0.1050\n",
      "Epoch 59/100\n",
      "7785/7785 [==============================] - 0s 62us/step - loss: 0.0709 - val_loss: 0.1044\n",
      "Epoch 60/100\n",
      "7785/7785 [==============================] - 0s 55us/step - loss: 0.0706 - val_loss: 0.1101\n",
      "Epoch 61/100\n",
      "7785/7785 [==============================] - 0s 59us/step - loss: 0.0701 - val_loss: 0.1074\n",
      "Epoch 62/100\n",
      "7785/7785 [==============================] - 0s 56us/step - loss: 0.0695 - val_loss: 0.1067\n",
      "Epoch 63/100\n",
      "7785/7785 [==============================] - 0s 59us/step - loss: 0.0690 - val_loss: 0.1104\n",
      "Epoch 64/100\n",
      "7785/7785 [==============================] - 0s 58us/step - loss: 0.0696 - val_loss: 0.1144\n",
      "Epoch 65/100\n",
      "7785/7785 [==============================] - 0s 56us/step - loss: 0.0689 - val_loss: 0.1055\n",
      "Epoch 66/100\n",
      "7785/7785 [==============================] - 0s 57us/step - loss: 0.0685 - val_loss: 0.1053\n",
      "Epoch 67/100\n",
      "7785/7785 [==============================] - 0s 59us/step - loss: 0.0674 - val_loss: 0.1087\n",
      "Epoch 68/100\n",
      "7785/7785 [==============================] - 0s 58us/step - loss: 0.0669 - val_loss: 0.1081\n",
      "Epoch 69/100\n",
      "7785/7785 [==============================] - 0s 54us/step - loss: 0.0665 - val_loss: 0.1086\n",
      "Epoch 70/100\n",
      "7785/7785 [==============================] - 0s 59us/step - loss: 0.0674 - val_loss: 0.1119\n",
      "Epoch 71/100\n",
      "7785/7785 [==============================] - 0s 57us/step - loss: 0.0662 - val_loss: 0.1072\n",
      "Epoch 72/100\n",
      "7785/7785 [==============================] - 0s 54us/step - loss: 0.0678 - val_loss: 0.1057\n",
      "Epoch 73/100\n",
      "7785/7785 [==============================] - 0s 58us/step - loss: 0.0663 - val_loss: 0.1072\n",
      "Epoch 74/100\n",
      "7785/7785 [==============================] - 0s 56us/step - loss: 0.0657 - val_loss: 0.1076\n",
      "Epoch 75/100\n",
      "7785/7785 [==============================] - 0s 55us/step - loss: 0.0657 - val_loss: 0.1087\n",
      "Epoch 76/100\n",
      "7785/7785 [==============================] - 0s 55us/step - loss: 0.0658 - val_loss: 0.1111\n",
      "Epoch 77/100\n",
      "7785/7785 [==============================] - 0s 53us/step - loss: 0.0652 - val_loss: 0.1075\n",
      "Epoch 78/100\n"
     ]
    },
    {
     "name": "stdout",
     "output_type": "stream",
     "text": [
      "7785/7785 [==============================] - 0s 55us/step - loss: 0.0644 - val_loss: 0.1065\n",
      "Epoch 79/100\n",
      "7785/7785 [==============================] - 0s 57us/step - loss: 0.0637 - val_loss: 0.1057\n",
      "Epoch 80/100\n",
      "7785/7785 [==============================] - 0s 59us/step - loss: 0.0643 - val_loss: 0.1090\n",
      "Epoch 81/100\n",
      "7785/7785 [==============================] - 0s 58us/step - loss: 0.0641 - val_loss: 0.1068\n",
      "Epoch 82/100\n",
      "7785/7785 [==============================] - 0s 62us/step - loss: 0.0636 - val_loss: 0.1090\n",
      "Epoch 83/100\n",
      "7785/7785 [==============================] - 0s 59us/step - loss: 0.0632 - val_loss: 0.1067\n",
      "Epoch 84/100\n",
      "7785/7785 [==============================] - 0s 60us/step - loss: 0.0622 - val_loss: 0.1076\n",
      "Epoch 85/100\n",
      "7785/7785 [==============================] - 0s 59us/step - loss: 0.0623 - val_loss: 0.1105\n",
      "Epoch 86/100\n",
      "7785/7785 [==============================] - 0s 59us/step - loss: 0.0625 - val_loss: 0.1080\n",
      "Epoch 87/100\n",
      "7785/7785 [==============================] - 0s 62us/step - loss: 0.0617 - val_loss: 0.1074\n",
      "Epoch 88/100\n",
      "7785/7785 [==============================] - 0s 57us/step - loss: 0.0622 - val_loss: 0.1088\n",
      "Epoch 89/100\n",
      "7785/7785 [==============================] - 0s 60us/step - loss: 0.0621 - val_loss: 0.1082\n",
      "Epoch 90/100\n",
      "7785/7785 [==============================] - 0s 56us/step - loss: 0.0613 - val_loss: 0.1061\n",
      "Epoch 91/100\n",
      "7785/7785 [==============================] - 0s 57us/step - loss: 0.0609 - val_loss: 0.1068\n",
      "Epoch 92/100\n",
      "7785/7785 [==============================] - 0s 61us/step - loss: 0.0612 - val_loss: 0.1085\n",
      "Epoch 93/100\n",
      "7785/7785 [==============================] - 0s 60us/step - loss: 0.0608 - val_loss: 0.1097\n",
      "Epoch 94/100\n",
      "7785/7785 [==============================] - 0s 62us/step - loss: 0.0603 - val_loss: 0.1068\n",
      "Epoch 95/100\n",
      "7785/7785 [==============================] - 1s 72us/step - loss: 0.0612 - val_loss: 0.1080\n",
      "Epoch 96/100\n",
      "7785/7785 [==============================] - 0s 64us/step - loss: 0.0605 - val_loss: 0.1086\n",
      "Epoch 97/100\n",
      "7785/7785 [==============================] - 1s 65us/step - loss: 0.0595 - val_loss: 0.1088\n",
      "Epoch 98/100\n",
      "7785/7785 [==============================] - 1s 66us/step - loss: 0.0600 - val_loss: 0.1099\n",
      "Epoch 99/100\n",
      "7785/7785 [==============================] - 0s 63us/step - loss: 0.0594 - val_loss: 0.1093\n",
      "Epoch 100/100\n",
      "7785/7785 [==============================] - 1s 66us/step - loss: 0.0594 - val_loss: 0.1094\n",
      "dict_keys(['val_loss', 'loss'])\n"
     ]
    }
   ],
   "source": [
    "from keras.wrappers.scikit_learn import KerasRegressor\n",
    "from keras.callbacks import ModelCheckpoint\n",
    "check = ModelCheckpoint('best-model_f.h5', monitor='val_loss', save_best_only=True, save_weights_only=False)\n",
    "\n",
    "regressor = KerasRegressor(build_fn=create_model1,validation_split=0.2, epochs=100, batch_size=64,verbose=1,callbacks=[check])\n",
    "history = regressor.fit(Xnn, y_train)\n",
    "print(history.history.keys())"
   ]
  },
  {
   "cell_type": "code",
   "execution_count": 45,
   "metadata": {},
   "outputs": [
    {
     "data": {
      "image/png": "[encoded data removed]",
      "text/plain": [
       "<Figure size 432x288 with 1 Axes>"
      ]
     },
     "metadata": {
      "needs_background": "light"
     },
     "output_type": "display_data"
    }
   ],
   "source": [
    "# summarize history for loss\n",
    "plt.plot(history.history['loss'])\n",
    "plt.plot(history.history['val_loss'])\n",
    "plt.title('model loss')\n",
    "plt.ylabel('loss')\n",
    "plt.xlabel('epoch')\n",
    "plt.legend(['train', 'test'], loc='upper left')\n",
    "plt.show()"
   ]
  },
  {
   "cell_type": "code",
   "execution_count": 46,
   "metadata": {},
   "outputs": [],
   "source": [
    "#model2--> Neural net\n",
    "from keras.models import load_model\n",
    "model2 = load_model('best-model_f.h5')"
   ]
  },
  {
   "cell_type": "code",
   "execution_count": 47,
   "metadata": {},
   "outputs": [
    {
     "name": "stdout",
     "output_type": "stream",
     "text": [
      "     year holiday workingday  temp  humidity  season_1  season_2  season_3  \\\n",
      "7656    1       0          1  0.36      0.57         0         1         0   \n",
      "7314    0       0          0  0.12      0.46         1         0         0   \n",
      "4296    1       0          0  0.16      0.80         1         0         0   \n",
      "541     0       0          1  0.26      0.70         0         0         0   \n",
      "9405    1       0          1  0.70      0.51         0         1         0   \n",
      "\n",
      "      season_4  month_1  ...  weekday_1  weekday_2  weekday_3  weekday_4  \\\n",
      "7656         0        0  ...          0          0          0          1   \n",
      "7314         0        1  ...          0          0          0          0   \n",
      "4296         0        1  ...          0          0          0          0   \n",
      "541          1        0  ...          0          1          0          0   \n",
      "9405         0        0  ...          0          0          0          0   \n",
      "\n",
      "      weekday_5  weekday_6  weather_1  weather_2  weather_3  weather_4  \n",
      "7656          0          0          1          0          0          0  \n",
      "7314          0          0          1          0          0          0  \n",
      "4296          0          0          0          1          0          0  \n",
      "541           0          0          1          0          0          0  \n",
      "9405          1          0          1          0          0          0  \n",
      "\n",
      "[5 rows x 56 columns]\n"
     ]
    }
   ],
   "source": [
    "XnnV = pd.DataFrame(pd.get_dummies(data=X_test,columns=['season','month','hour','weekday','weather']))\n",
    "print(XnnV.head())"
   ]
  },
  {
   "cell_type": "markdown",
   "metadata": {},
   "source": [
    "Make predictions using the testing set:"
   ]
  },
  {
   "cell_type": "code",
   "execution_count": 53,
   "metadata": {},
   "outputs": [],
   "source": [
    "preds2=model2.predict(XnnV)\n",
    "preds1=model1.predict(X_test)"
   ]
  },
  {
   "cell_type": "markdown",
   "metadata": {},
   "source": [
    "We observe that there are negative predictions. It has no physical meaning, and in order to be able to use RMSLE score  we convert these values to zero:"
   ]
  },
  {
   "cell_type": "code",
   "execution_count": 54,
   "metadata": {},
   "outputs": [],
   "source": [
    "for i, y  in enumerate(preds2):\n",
    "    if preds2[i] < 0:\n",
    "        preds2[i] = 0\n",
    "        \n",
    "for i, y in enumerate(preds1):\n",
    "    if preds1[i] < 0:\n",
    "        preds1[i] = 0"
   ]
  },
  {
   "cell_type": "markdown",
   "metadata": {},
   "source": [
    "We check RMSLE and R-square scores. The R-square value is also very reasonable for this dataset which has a huge number of outliers."
   ]
  },
  {
   "cell_type": "code",
   "execution_count": 55,
   "metadata": {},
   "outputs": [
    {
     "name": "stdout",
     "output_type": "stream",
     "text": [
      "RMSLE: 0.3535863917123534\n",
      "R2: 0.9367182823681994\n"
     ]
    }
   ],
   "source": [
    "print('RMSLE:', np.sqrt(mean_squared_log_error(y_test, preds1)))\n",
    "print('R2:', r2_score(y_test, preds1))"
   ]
  },
  {
   "cell_type": "code",
   "execution_count": 56,
   "metadata": {},
   "outputs": [
    {
     "name": "stdout",
     "output_type": "stream",
     "text": [
      "RMSLE: 0.32945537024104965\n",
      "R2: 0.923588737595644\n"
     ]
    }
   ],
   "source": [
    "print('RMSLE:', np.sqrt(mean_squared_log_error(y_test, preds2)))\n",
    "print('R2:', r2_score(y_test, preds2))"
   ]
  },
  {
   "cell_type": "markdown",
   "metadata": {},
   "source": [
    "To understand the performance of the model, a regression plot can be drawn between actual and predicted data. Bins are   used to make the pattern more meaningful."
   ]
  },
  {
   "cell_type": "code",
   "execution_count": 59,
   "metadata": {},
   "outputs": [
    {
     "name": "stdout",
     "output_type": "stream",
     "text": [
      "         0           1\n",
      "0  320.624  315.852386\n",
      "1   40.106   27.808281\n",
      "2  169.054  120.211426\n",
      "3   55.572   59.019314\n",
      "4  516.576  515.418823\n"
     ]
    }
   ],
   "source": [
    "stacked_predictions = pd.DataFrame(np.column_stack((preds1,preds2)))\n",
    "print(stacked_predictions.head())"
   ]
  },
  {
   "cell_type": "code",
   "execution_count": 69,
   "metadata": {},
   "outputs": [],
   "source": [
    "#stacked_predictions_train = pd.DataFrame(np.column_stack((model1.predict(X_train),model2.predict(X_train))\n",
    "#print(stacked_predictions_train.head())"
   ]
  },
  {
   "cell_type": "code",
   "execution_count": 70,
   "metadata": {},
   "outputs": [
    {
     "data": {
      "text/plain": [
       "LinearRegression(copy_X=True, fit_intercept=True, n_jobs=None, normalize=False)"
      ]
     },
     "execution_count": 70,
     "metadata": {},
     "output_type": "execute_result"
    }
   ],
   "source": [
    "f_model = LinearRegression()\n",
    "y=df_train['count']\n",
    "f_model.fit(stacked_predictions,y_test)"
   ]
  },
  {
   "cell_type": "code",
   "execution_count": 71,
   "metadata": {},
   "outputs": [],
   "source": [
    "def create_model(learn_rate=0.1,beta_1=0.9,beta_2=0.999):\n",
    "    mod = Sequential()\n",
    "    mod.add(Dense(10, input_dim=2,activation='relu')) #input\n",
    "    mod.add(Dense(10, input_dim=2,activation='relu')) #hidden\n",
    "    mod.add(Dense(1, activation=\"relu\",input_dim=2)) #output\n",
    "    adam = keras.optimizers.Adam(lr=learn_rate,beta_1=beta_1,beta_2=beta_2)\n",
    "    mod.compile(optimizer=adam,loss=keras.losses.mean_squared_logarithmic_error)\n",
    "    return mod"
   ]
  },
  {
   "cell_type": "code",
   "execution_count": 72,
   "metadata": {},
   "outputs": [
    {
     "name": "stdout",
     "output_type": "stream",
     "text": [
      "Epoch 1/10\n",
      "2433/2433 [==============================] - 1s 321us/step - loss: 0.3392\n",
      "Epoch 2/10\n",
      "2433/2433 [==============================] - 0s 60us/step - loss: 0.1025\n",
      "Epoch 3/10\n",
      "2433/2433 [==============================] - 0s 47us/step - loss: 0.1021\n",
      "Epoch 4/10\n",
      "2433/2433 [==============================] - 0s 42us/step - loss: 0.1021\n",
      "Epoch 5/10\n",
      "2433/2433 [==============================] - 0s 48us/step - loss: 0.1037\n",
      "Epoch 6/10\n",
      "2433/2433 [==============================] - 0s 53us/step - loss: 0.1024\n",
      "Epoch 7/10\n",
      "2433/2433 [==============================] - 0s 52us/step - loss: 0.1033\n",
      "Epoch 8/10\n",
      "2433/2433 [==============================] - 0s 58us/step - loss: 0.1074\n",
      "Epoch 9/10\n",
      "2433/2433 [==============================] - 0s 51us/step - loss: 0.1060\n",
      "Epoch 10/10\n",
      "2433/2433 [==============================] - 0s 50us/step - loss: 0.1016\n"
     ]
    },
    {
     "data": {
      "text/plain": [
       "<keras.callbacks.History at 0x1df7b729dd8>"
      ]
     },
     "execution_count": 72,
     "metadata": {},
     "output_type": "execute_result"
    }
   ],
   "source": [
    "from keras.wrappers.scikit_learn import KerasRegressor\n",
    "nn = KerasRegressor(build_fn=create_model, epochs=10, batch_size=32,verbose=1)\n",
    "y=df_train['count']\n",
    "nn.fit(stacked_predictions, y_test)"
   ]
  },
  {
   "cell_type": "code",
   "execution_count": 74,
   "metadata": {},
   "outputs": [],
   "source": [
    "final_pred=f_model.predict(stacked_predictions)\n",
    "for i, y in enumerate(final_pred):\n",
    "    if final_pred[i] < 0:\n",
    "        final_pred[i] = 0"
   ]
  },
  {
   "cell_type": "code",
   "execution_count": 80,
   "metadata": {},
   "outputs": [
    {
     "name": "stdout",
     "output_type": "stream",
     "text": [
      "RMSLE: 0.3941894372811235\n",
      "R2: 0.9439269038247026\n"
     ]
    }
   ],
   "source": [
    "print('RMSLE:', np.sqrt(mean_squared_log_error(y_test, final_pred)))\n",
    "print('R2:', r2_score(y_test, final_pred))"
   ]
  },
  {
   "cell_type": "code",
   "execution_count": 83,
   "metadata": {},
   "outputs": [
    {
     "name": "stdout",
     "output_type": "stream",
     "text": [
      "2433/2433 [==============================] - 0s 19us/step\n"
     ]
    }
   ],
   "source": [
    "final_pred2=nn.predict(stacked_predictions)\n",
    "for i, y in enumerate(final_pred2):\n",
    "    if final_pred2[i] < 0:\n",
    "        final_pred2[i] = 0"
   ]
  },
  {
   "cell_type": "code",
   "execution_count": 84,
   "metadata": {},
   "outputs": [
    {
     "name": "stdout",
     "output_type": "stream",
     "text": [
      "RMSLE: 0.3164978154046626\n",
      "R2: 0.9399943189284932\n"
     ]
    }
   ],
   "source": [
    "print('RMSLE:', np.sqrt(mean_squared_log_error(y_test, final_pred2)))\n",
    "print('R2:', r2_score(y_test, final_pred2))"
   ]
  },
  {
   "cell_type": "code",
   "execution_count": 234,
   "metadata": {},
   "outputs": [
    {
     "name": "stdout",
     "output_type": "stream",
     "text": [
      "(2433,)\n"
     ]
    }
   ],
   "source": [
    "#ax = sn.regplot(final_pred, y_test, x_bins = 200)\n",
    "#ax.set(title = \"Comparison between the actual vs predicted values Predictions(2)\")"
   ]
  },
  {
   "cell_type": "code",
   "execution_count": 85,
   "metadata": {},
   "outputs": [],
   "source": [
    "for i in range(len(final_pred2)):\n",
    "    final_pred2[i]=(0.5*preds1[i]+0.5*preds2[i])"
   ]
  },
  {
   "cell_type": "code",
   "execution_count": 86,
   "metadata": {},
   "outputs": [
    {
     "name": "stdout",
     "output_type": "stream",
     "text": [
      "RMSLE: 0.32094030345033375\n",
      "R2: 0.942737602475522\n"
     ]
    }
   ],
   "source": [
    "print('RMSLE:', np.sqrt(mean_squared_log_error(y_test, final_pred2)))\n",
    "print('R2:', r2_score(y_test, final_pred2))"
   ]
  },
  {
   "cell_type": "code",
   "execution_count": 207,
   "metadata": {},
   "outputs": [],
   "source": [
    "#ax = sn.regplot(final_pred2, y_test, x_bins = 200)\n",
    "#ax.set(title = \"Comparison between the actual vs predicted values Predictions(3)\")"
   ]
  },
  {
   "cell_type": "markdown",
   "metadata": {},
   "source": [
    "From the plot it is visible that the deviations from actual test data are very high and not restricted in a limit. Maybe outliers have great negative impact in models' performance. So we must search for better solutions."
   ]
  },
  {
   "cell_type": "markdown",
   "metadata": {},
   "source": [
    "# Kaggle Submission"
   ]
  },
  {
   "cell_type": "markdown",
   "metadata": {},
   "source": [
    "Now we will use the fitted model to make predictions for the **given** test set. First we load the test set and then follow the same preprocessing steps as for train set."
   ]
  },
  {
   "cell_type": "code",
   "execution_count": 208,
   "metadata": {},
   "outputs": [
    {
     "data": {
      "text/html": [
       "<div>\n",
       "<style scoped>\n",
       "    .dataframe tbody tr th:only-of-type {\n",
       "        vertical-align: middle;\n",
       "    }\n",
       "\n",
       "    .dataframe tbody tr th {\n",
       "        vertical-align: top;\n",
       "    }\n",
       "\n",
       "    .dataframe thead th {\n",
       "        text-align: right;\n",
       "    }\n",
       "</style>\n",
       "<table border=\"1\" class=\"dataframe\">\n",
       "  <thead>\n",
       "    <tr style=\"text-align: right;\">\n",
       "      <th></th>\n",
       "      <th>season</th>\n",
       "      <th>yr</th>\n",
       "      <th>mnth</th>\n",
       "      <th>hr</th>\n",
       "      <th>holiday</th>\n",
       "      <th>weekday</th>\n",
       "      <th>workingday</th>\n",
       "      <th>weathersit</th>\n",
       "      <th>temp</th>\n",
       "      <th>atemp</th>\n",
       "      <th>hum</th>\n",
       "      <th>windspeed</th>\n",
       "    </tr>\n",
       "  </thead>\n",
       "  <tbody>\n",
       "    <tr>\n",
       "      <th>0</th>\n",
       "      <td>1</td>\n",
       "      <td>1</td>\n",
       "      <td>1</td>\n",
       "      <td>20</td>\n",
       "      <td>0</td>\n",
       "      <td>4</td>\n",
       "      <td>1</td>\n",
       "      <td>1</td>\n",
       "      <td>0.26</td>\n",
       "      <td>0.2121</td>\n",
       "      <td>0.52</td>\n",
       "      <td>0.4478</td>\n",
       "    </tr>\n",
       "    <tr>\n",
       "      <th>1</th>\n",
       "      <td>4</td>\n",
       "      <td>1</td>\n",
       "      <td>10</td>\n",
       "      <td>15</td>\n",
       "      <td>0</td>\n",
       "      <td>5</td>\n",
       "      <td>1</td>\n",
       "      <td>1</td>\n",
       "      <td>0.52</td>\n",
       "      <td>0.5000</td>\n",
       "      <td>0.42</td>\n",
       "      <td>0.4478</td>\n",
       "    </tr>\n",
       "    <tr>\n",
       "      <th>2</th>\n",
       "      <td>1</td>\n",
       "      <td>0</td>\n",
       "      <td>1</td>\n",
       "      <td>10</td>\n",
       "      <td>0</td>\n",
       "      <td>0</td>\n",
       "      <td>0</td>\n",
       "      <td>1</td>\n",
       "      <td>0.22</td>\n",
       "      <td>0.2121</td>\n",
       "      <td>0.51</td>\n",
       "      <td>0.2836</td>\n",
       "    </tr>\n",
       "    <tr>\n",
       "      <th>3</th>\n",
       "      <td>3</td>\n",
       "      <td>1</td>\n",
       "      <td>8</td>\n",
       "      <td>18</td>\n",
       "      <td>0</td>\n",
       "      <td>3</td>\n",
       "      <td>1</td>\n",
       "      <td>1</td>\n",
       "      <td>0.74</td>\n",
       "      <td>0.6667</td>\n",
       "      <td>0.51</td>\n",
       "      <td>0.2239</td>\n",
       "    </tr>\n",
       "    <tr>\n",
       "      <th>4</th>\n",
       "      <td>1</td>\n",
       "      <td>1</td>\n",
       "      <td>2</td>\n",
       "      <td>8</td>\n",
       "      <td>0</td>\n",
       "      <td>1</td>\n",
       "      <td>1</td>\n",
       "      <td>1</td>\n",
       "      <td>0.24</td>\n",
       "      <td>0.2424</td>\n",
       "      <td>0.60</td>\n",
       "      <td>0.0000</td>\n",
       "    </tr>\n",
       "  </tbody>\n",
       "</table>\n",
       "</div>"
      ],
      "text/plain": [
       "   season  yr  mnth  hr  holiday  weekday  workingday  weathersit  temp  \\\n",
       "0       1   1     1  20        0        4           1           1  0.26   \n",
       "1       4   1    10  15        0        5           1           1  0.52   \n",
       "2       1   0     1  10        0        0           0           1  0.22   \n",
       "3       3   1     8  18        0        3           1           1  0.74   \n",
       "4       1   1     2   8        0        1           1           1  0.24   \n",
       "\n",
       "    atemp   hum  windspeed  \n",
       "0  0.2121  0.52     0.4478  \n",
       "1  0.5000  0.42     0.4478  \n",
       "2  0.2121  0.51     0.2836  \n",
       "3  0.6667  0.51     0.2239  \n",
       "4  0.2424  0.60     0.0000  "
      ]
     },
     "execution_count": 208,
     "metadata": {},
     "output_type": "execute_result"
    }
   ],
   "source": [
    "filename = 'test.csv' \n",
    "df_test = pd.read_csv(filename)\n",
    "df_test.head(5)"
   ]
  },
  {
   "cell_type": "code",
   "execution_count": 209,
   "metadata": {},
   "outputs": [
    {
     "data": {
      "text/plain": [
       "(5214, 12)"
      ]
     },
     "execution_count": 209,
     "metadata": {},
     "output_type": "execute_result"
    }
   ],
   "source": [
    "df_test.shape"
   ]
  },
  {
   "cell_type": "code",
   "execution_count": 210,
   "metadata": {},
   "outputs": [],
   "source": [
    "df_test.rename(columns={'weathersit':'weather',\n",
    "                     'mnth':'month',\n",
    "                     'hr':'hour',\n",
    "                     'yr':'year',\n",
    "                     'hum': 'humidity',\n",
    "                     'cnt':'count'},inplace=True)"
   ]
  },
  {
   "cell_type": "code",
   "execution_count": 211,
   "metadata": {},
   "outputs": [
    {
     "name": "stdout",
     "output_type": "stream",
     "text": [
      "  season year month hour holiday weekday workingday weather  temp   atemp  \\\n",
      "0      1    1     1   20       0       4          1       1  0.26  0.2121   \n",
      "1      4    1    10   15       0       5          1       1  0.52  0.5000   \n",
      "2      1    0     1   10       0       0          0       1  0.22  0.2121   \n",
      "3      3    1     8   18       0       3          1       1  0.74  0.6667   \n",
      "4      1    1     2    8       0       1          1       1  0.24  0.2424   \n",
      "\n",
      "   humidity  windspeed  \n",
      "0      0.52     0.4478  \n",
      "1      0.42     0.4478  \n",
      "2      0.51     0.2836  \n",
      "3      0.51     0.2239  \n",
      "4      0.60     0.0000  \n"
     ]
    }
   ],
   "source": [
    "df_test['season'] = df_test.season.astype('category')\n",
    "df_test['year'] = df_test.year.astype('category')\n",
    "df_test['month'] = df_test.month.astype('category')\n",
    "df_test['hour'] = df_test.hour.astype('category')\n",
    "df_test['holiday'] = df_test.holiday.astype('category')\n",
    "df_test['weekday'] = df_test.weekday.astype('category')\n",
    "df_test['workingday'] = df_test.workingday.astype('category')\n",
    "df_test['weather'] = df_test.weather.astype('category')\n",
    "print(df_test.head())"
   ]
  },
  {
   "cell_type": "code",
   "execution_count": 212,
   "metadata": {},
   "outputs": [],
   "source": [
    "#df_test = df_test.drop(['atemp', 'windspeed'], axis=1)\n",
    "df_test= df_test[['season','year','month','hour','holiday','weekday','workingday','weather','temp','humidity']]"
   ]
  },
  {
   "cell_type": "code",
   "execution_count": 213,
   "metadata": {},
   "outputs": [],
   "source": [
    "#df_test = df_test[['temp', 'humidity', 'workingday']]\n",
    "#df_test =pd.DataFrame(scaler.fit_transform(df_test))"
   ]
  },
  {
   "cell_type": "code",
   "execution_count": 214,
   "metadata": {},
   "outputs": [
    {
     "data": {
      "text/html": [
       "<div>\n",
       "<style scoped>\n",
       "    .dataframe tbody tr th:only-of-type {\n",
       "        vertical-align: middle;\n",
       "    }\n",
       "\n",
       "    .dataframe tbody tr th {\n",
       "        vertical-align: top;\n",
       "    }\n",
       "\n",
       "    .dataframe thead th {\n",
       "        text-align: right;\n",
       "    }\n",
       "</style>\n",
       "<table border=\"1\" class=\"dataframe\">\n",
       "  <thead>\n",
       "    <tr style=\"text-align: right;\">\n",
       "      <th></th>\n",
       "      <th>season</th>\n",
       "      <th>year</th>\n",
       "      <th>month</th>\n",
       "      <th>hour</th>\n",
       "      <th>holiday</th>\n",
       "      <th>weekday</th>\n",
       "      <th>workingday</th>\n",
       "      <th>weather</th>\n",
       "      <th>temp</th>\n",
       "      <th>humidity</th>\n",
       "    </tr>\n",
       "  </thead>\n",
       "  <tbody>\n",
       "    <tr>\n",
       "      <th>0</th>\n",
       "      <td>1</td>\n",
       "      <td>1</td>\n",
       "      <td>1</td>\n",
       "      <td>20</td>\n",
       "      <td>0</td>\n",
       "      <td>4</td>\n",
       "      <td>1</td>\n",
       "      <td>1</td>\n",
       "      <td>0.26</td>\n",
       "      <td>0.52</td>\n",
       "    </tr>\n",
       "    <tr>\n",
       "      <th>1</th>\n",
       "      <td>4</td>\n",
       "      <td>1</td>\n",
       "      <td>10</td>\n",
       "      <td>15</td>\n",
       "      <td>0</td>\n",
       "      <td>5</td>\n",
       "      <td>1</td>\n",
       "      <td>1</td>\n",
       "      <td>0.52</td>\n",
       "      <td>0.42</td>\n",
       "    </tr>\n",
       "    <tr>\n",
       "      <th>2</th>\n",
       "      <td>1</td>\n",
       "      <td>0</td>\n",
       "      <td>1</td>\n",
       "      <td>10</td>\n",
       "      <td>0</td>\n",
       "      <td>0</td>\n",
       "      <td>0</td>\n",
       "      <td>1</td>\n",
       "      <td>0.22</td>\n",
       "      <td>0.51</td>\n",
       "    </tr>\n",
       "    <tr>\n",
       "      <th>3</th>\n",
       "      <td>3</td>\n",
       "      <td>1</td>\n",
       "      <td>8</td>\n",
       "      <td>18</td>\n",
       "      <td>0</td>\n",
       "      <td>3</td>\n",
       "      <td>1</td>\n",
       "      <td>1</td>\n",
       "      <td>0.74</td>\n",
       "      <td>0.51</td>\n",
       "    </tr>\n",
       "    <tr>\n",
       "      <th>4</th>\n",
       "      <td>1</td>\n",
       "      <td>1</td>\n",
       "      <td>2</td>\n",
       "      <td>8</td>\n",
       "      <td>0</td>\n",
       "      <td>1</td>\n",
       "      <td>1</td>\n",
       "      <td>1</td>\n",
       "      <td>0.24</td>\n",
       "      <td>0.60</td>\n",
       "    </tr>\n",
       "  </tbody>\n",
       "</table>\n",
       "</div>"
      ],
      "text/plain": [
       "  season year month hour holiday weekday workingday weather  temp  humidity\n",
       "0      1    1     1   20       0       4          1       1  0.26      0.52\n",
       "1      4    1    10   15       0       5          1       1  0.52      0.42\n",
       "2      1    0     1   10       0       0          0       1  0.22      0.51\n",
       "3      3    1     8   18       0       3          1       1  0.74      0.51\n",
       "4      1    1     2    8       0       1          1       1  0.24      0.60"
      ]
     },
     "execution_count": 214,
     "metadata": {},
     "output_type": "execute_result"
    }
   ],
   "source": [
    "df_test.head()"
   ]
  },
  {
   "cell_type": "code",
   "execution_count": 215,
   "metadata": {},
   "outputs": [],
   "source": [
    "preds1_test = model1.predict(df_test.values)"
   ]
  },
  {
   "cell_type": "code",
   "execution_count": 216,
   "metadata": {},
   "outputs": [
    {
     "name": "stdout",
     "output_type": "stream",
     "text": [
      "(5214, 55)\n"
     ]
    }
   ],
   "source": [
    "Xnn_test = pd.get_dummies(data=df_test,columns=['season','month','hour','weekday','weather'])\n",
    "print(Xnn_test.shape)"
   ]
  },
  {
   "cell_type": "code",
   "execution_count": 217,
   "metadata": {},
   "outputs": [
    {
     "data": {
      "text/html": [
       "<div>\n",
       "<style scoped>\n",
       "    .dataframe tbody tr th:only-of-type {\n",
       "        vertical-align: middle;\n",
       "    }\n",
       "\n",
       "    .dataframe tbody tr th {\n",
       "        vertical-align: top;\n",
       "    }\n",
       "\n",
       "    .dataframe thead th {\n",
       "        text-align: right;\n",
       "    }\n",
       "</style>\n",
       "<table border=\"1\" class=\"dataframe\">\n",
       "  <thead>\n",
       "    <tr style=\"text-align: right;\">\n",
       "      <th></th>\n",
       "      <th>year</th>\n",
       "      <th>holiday</th>\n",
       "      <th>workingday</th>\n",
       "      <th>temp</th>\n",
       "      <th>humidity</th>\n",
       "      <th>season_1</th>\n",
       "      <th>season_2</th>\n",
       "      <th>season_3</th>\n",
       "      <th>season_4</th>\n",
       "      <th>month_1</th>\n",
       "      <th>...</th>\n",
       "      <th>weekday_1</th>\n",
       "      <th>weekday_2</th>\n",
       "      <th>weekday_3</th>\n",
       "      <th>weekday_4</th>\n",
       "      <th>weekday_5</th>\n",
       "      <th>weekday_6</th>\n",
       "      <th>weather_1</th>\n",
       "      <th>weather_2</th>\n",
       "      <th>weather_3</th>\n",
       "      <th>weather_4</th>\n",
       "    </tr>\n",
       "  </thead>\n",
       "  <tbody>\n",
       "    <tr>\n",
       "      <th>0</th>\n",
       "      <td>1</td>\n",
       "      <td>0</td>\n",
       "      <td>1</td>\n",
       "      <td>0.26</td>\n",
       "      <td>0.52</td>\n",
       "      <td>1</td>\n",
       "      <td>0</td>\n",
       "      <td>0</td>\n",
       "      <td>0</td>\n",
       "      <td>1</td>\n",
       "      <td>...</td>\n",
       "      <td>0</td>\n",
       "      <td>0</td>\n",
       "      <td>0</td>\n",
       "      <td>1</td>\n",
       "      <td>0</td>\n",
       "      <td>0</td>\n",
       "      <td>1</td>\n",
       "      <td>0</td>\n",
       "      <td>0</td>\n",
       "      <td>0</td>\n",
       "    </tr>\n",
       "    <tr>\n",
       "      <th>1</th>\n",
       "      <td>1</td>\n",
       "      <td>0</td>\n",
       "      <td>1</td>\n",
       "      <td>0.52</td>\n",
       "      <td>0.42</td>\n",
       "      <td>0</td>\n",
       "      <td>0</td>\n",
       "      <td>0</td>\n",
       "      <td>1</td>\n",
       "      <td>0</td>\n",
       "      <td>...</td>\n",
       "      <td>0</td>\n",
       "      <td>0</td>\n",
       "      <td>0</td>\n",
       "      <td>0</td>\n",
       "      <td>1</td>\n",
       "      <td>0</td>\n",
       "      <td>1</td>\n",
       "      <td>0</td>\n",
       "      <td>0</td>\n",
       "      <td>0</td>\n",
       "    </tr>\n",
       "    <tr>\n",
       "      <th>2</th>\n",
       "      <td>0</td>\n",
       "      <td>0</td>\n",
       "      <td>0</td>\n",
       "      <td>0.22</td>\n",
       "      <td>0.51</td>\n",
       "      <td>1</td>\n",
       "      <td>0</td>\n",
       "      <td>0</td>\n",
       "      <td>0</td>\n",
       "      <td>1</td>\n",
       "      <td>...</td>\n",
       "      <td>0</td>\n",
       "      <td>0</td>\n",
       "      <td>0</td>\n",
       "      <td>0</td>\n",
       "      <td>0</td>\n",
       "      <td>0</td>\n",
       "      <td>1</td>\n",
       "      <td>0</td>\n",
       "      <td>0</td>\n",
       "      <td>0</td>\n",
       "    </tr>\n",
       "    <tr>\n",
       "      <th>3</th>\n",
       "      <td>1</td>\n",
       "      <td>0</td>\n",
       "      <td>1</td>\n",
       "      <td>0.74</td>\n",
       "      <td>0.51</td>\n",
       "      <td>0</td>\n",
       "      <td>0</td>\n",
       "      <td>1</td>\n",
       "      <td>0</td>\n",
       "      <td>0</td>\n",
       "      <td>...</td>\n",
       "      <td>0</td>\n",
       "      <td>0</td>\n",
       "      <td>1</td>\n",
       "      <td>0</td>\n",
       "      <td>0</td>\n",
       "      <td>0</td>\n",
       "      <td>1</td>\n",
       "      <td>0</td>\n",
       "      <td>0</td>\n",
       "      <td>0</td>\n",
       "    </tr>\n",
       "    <tr>\n",
       "      <th>4</th>\n",
       "      <td>1</td>\n",
       "      <td>0</td>\n",
       "      <td>1</td>\n",
       "      <td>0.24</td>\n",
       "      <td>0.60</td>\n",
       "      <td>1</td>\n",
       "      <td>0</td>\n",
       "      <td>0</td>\n",
       "      <td>0</td>\n",
       "      <td>0</td>\n",
       "      <td>...</td>\n",
       "      <td>1</td>\n",
       "      <td>0</td>\n",
       "      <td>0</td>\n",
       "      <td>0</td>\n",
       "      <td>0</td>\n",
       "      <td>0</td>\n",
       "      <td>1</td>\n",
       "      <td>0</td>\n",
       "      <td>0</td>\n",
       "      <td>0</td>\n",
       "    </tr>\n",
       "  </tbody>\n",
       "</table>\n",
       "<p>5 rows × 56 columns</p>\n",
       "</div>"
      ],
      "text/plain": [
       "  year holiday workingday  temp  humidity  season_1  season_2  season_3  \\\n",
       "0    1       0          1  0.26      0.52         1         0         0   \n",
       "1    1       0          1  0.52      0.42         0         0         0   \n",
       "2    0       0          0  0.22      0.51         1         0         0   \n",
       "3    1       0          1  0.74      0.51         0         0         1   \n",
       "4    1       0          1  0.24      0.60         1         0         0   \n",
       "\n",
       "   season_4  month_1  ...  weekday_1  weekday_2  weekday_3  weekday_4  \\\n",
       "0         0        1  ...          0          0          0          1   \n",
       "1         1        0  ...          0          0          0          0   \n",
       "2         0        1  ...          0          0          0          0   \n",
       "3         0        0  ...          0          0          1          0   \n",
       "4         0        0  ...          1          0          0          0   \n",
       "\n",
       "   weekday_5  weekday_6  weather_1  weather_2  weather_3  weather_4  \n",
       "0          0          0          1          0          0          0  \n",
       "1          1          0          1          0          0          0  \n",
       "2          0          0          1          0          0          0  \n",
       "3          0          0          1          0          0          0  \n",
       "4          0          0          1          0          0          0  \n",
       "\n",
       "[5 rows x 56 columns]"
      ]
     },
     "execution_count": 217,
     "metadata": {},
     "output_type": "execute_result"
    }
   ],
   "source": [
    "Xnn_test['weather_4']=0\n",
    "Xnn_test.shape\n",
    "Xnn_test.head()"
   ]
  },
  {
   "cell_type": "code",
   "execution_count": 218,
   "metadata": {},
   "outputs": [],
   "source": [
    "preds2_test=model2.predict(Xnn_test)"
   ]
  },
  {
   "cell_type": "code",
   "execution_count": 219,
   "metadata": {},
   "outputs": [
    {
     "name": "stdout",
     "output_type": "stream",
     "text": [
      "(5214, 2)\n"
     ]
    }
   ],
   "source": [
    "stacked_predictions_f = pd.DataFrame(np.column_stack((preds1_test,preds2_test)))\n",
    "print(stacked_predictions_f.shape)"
   ]
  },
  {
   "cell_type": "code",
   "execution_count": 220,
   "metadata": {},
   "outputs": [],
   "source": [
    "final_predictions = f_model.predict(stacked_predictions_f)"
   ]
  },
  {
   "cell_type": "code",
   "execution_count": 221,
   "metadata": {},
   "outputs": [],
   "source": [
    "for i in range(len(final_predictions)):\n",
    "    final_predictions[i]=(0.5*preds1_test[i]+0.5*preds2_test[i])"
   ]
  },
  {
   "cell_type": "code",
   "execution_count": 222,
   "metadata": {},
   "outputs": [
    {
     "data": {
      "text/plain": [
       "False"
      ]
     },
     "execution_count": 222,
     "metadata": {},
     "output_type": "execute_result"
    }
   ],
   "source": [
    "True in (final_predictions < 0)"
   ]
  },
  {
   "cell_type": "markdown",
   "metadata": {},
   "source": [
    "Convert these values to zero:"
   ]
  },
  {
   "cell_type": "code",
   "execution_count": 223,
   "metadata": {},
   "outputs": [],
   "source": [
    "for i, y  in enumerate(final_predictions):\n",
    "    if final_predictions[i] < 0:\n",
    "        final_predictions[i] = 0\n",
    "        "
   ]
  },
  {
   "cell_type": "markdown",
   "metadata": {},
   "source": [
    "Prepare a pandas dataframe according to submission format and save it to `submission.csv`:"
   ]
  },
  {
   "cell_type": "code",
   "execution_count": 224,
   "metadata": {},
   "outputs": [],
   "source": [
    "submission = pd.DataFrame()\n",
    "submission['Id'] = range(final_predictions.shape[0])\n",
    "submission['Predicted'] = final_predictions"
   ]
  },
  {
   "cell_type": "code",
   "execution_count": 104,
   "metadata": {},
   "outputs": [
    {
     "data": {
      "text/plain": [
       "(5214, 2)"
      ]
     },
     "execution_count": 104,
     "metadata": {},
     "output_type": "execute_result"
    }
   ],
   "source": [
    "submission.shape"
   ]
  },
  {
   "cell_type": "code",
   "execution_count": 105,
   "metadata": {},
   "outputs": [],
   "source": [
    "submission.to_csv(\"submissionEnsemblesLAST.csv\", index=False)"
   ]
  },
  {
   "cell_type": "markdown",
   "metadata": {},
   "source": [
    "Now we can upload our submission to Kaggle platform, which gives us a score `1.37116`"
   ]
  },
  {
   "cell_type": "markdown",
   "metadata": {},
   "source": [
    "**`Note:`**\n",
    "In the above example we splitted the given train set (X, y) to train and test sets to have a better view in our models' performance. After fine-tuning models' parameters we need to train our model in whole train set."
   ]
  },
  {
   "cell_type": "markdown",
   "metadata": {},
   "source": [
    "# Ideas for improving the model"
   ]
  },
  {
   "cell_type": "markdown",
   "metadata": {},
   "source": [
    "For any ML project, preprocessing the data is a crucial step. The process is usually an accumulation of widely followed pre-processing practices, and case-specific tweaks made to the data based on judgement-calls from the person designing the models. If data-wrangling is done incorrectly or inadequately, it can lead to ill-trained ML algorithms that provide inaccurate or (at best) sub-optimal results. The age-old saying, “Garbage in, Garbage out” applies here. An important part of this process is **Feature Engineering**, which involves turning available data features into more useful variables that can help us predict our outcome.\n",
    "\n",
    "So here we propose some ideas to improve your model:"
   ]
  },
  {
   "cell_type": "markdown",
   "metadata": {},
   "source": [
    "- Train including all features.\n",
    "- Use one-hot encoding technique. Since we have categorical values in our data set, we need to ‘tell’ our algorithm that classes have equal weight for our analysis. By one-hot encoding, we convert non-binary categorical features (like 'season', 'year', 'month', etc) into multiple binary sub-features where each sub-feature indicates whether a certain category for the original feature is True or Not (1 or 0).\n",
    "- Use Cross-validation to evaluate your estimators' performance, avoid overfitting and achieve good generalization.\n",
    "- Use GridSearchCV to tune your estimator by testing different parameters.\n",
    "- Use prior knowledge to remove features that don’t add important information.\n",
    "- Use regularization (L1 & L2).\n",
    "- Try ensemble models.\n",
    "- Predict casual and registered user count separately.\n",
    "- Search for outliers' impact.\n",
    "- Make use of time series analysis."
   ]
  },
  {
   "cell_type": "markdown",
   "metadata": {},
   "source": [
    "# Project submission"
   ]
  },
  {
   "cell_type": "markdown",
   "metadata": {},
   "source": [
    "The project is either individual or can be done in groups of up to 3 people. The final evaluation will be based both on the RMSLE score you achieve and your overall approach to the problem. As part of the project, the following should be submitted:\n",
    "- A 2-page report describing the approach and methods you used. Since this is a real regression problem, we are interested in knowing how you dealt with each stage of the problem, e.g. what kind of data representation you used, what features you used, if you applied dimensionality reduction techniques, what algorithms you tried and why, the performance of your methods (RMSLE score and training time), any approaches that ultimately didn't work but are interesting to present, and generally, whatever you think is interesting to mention.\n",
    "- A folder with your code.\n",
    "- Alternatively you can combine the two above into one Ipython Notebook file.\n",
    "- Create a .zip file containing the code and report and submit it to the e-class platform, indicating also your Kaggle TeamName.\n",
    "\n",
    "**End date**: 26 December 2019.\n"
   ]
  }
 ],
 "metadata": {
  "kernelspec": {
   "display_name": "Python 3",
   "language": "python",
   "name": "python3"
  },
  "language_info": {
   "codemirror_mode": {
    "name": "ipython",
    "version": 3
   },
   "file_extension": ".py",
   "mimetype": "text/x-python",
   "name": "python",
   "nbconvert_exporter": "python",
   "pygments_lexer": "ipython3",
   "version": "3.7.3"
  }
 },
 "nbformat": 4,
 "nbformat_minor": 1
}
